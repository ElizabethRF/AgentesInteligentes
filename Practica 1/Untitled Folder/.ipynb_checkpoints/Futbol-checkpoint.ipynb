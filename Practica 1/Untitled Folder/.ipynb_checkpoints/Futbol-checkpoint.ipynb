{
 "cells": [
  {
   "cell_type": "code",
   "execution_count": 13,
   "metadata": {},
   "outputs": [],
   "source": [
    "import urllib.request as ur\n",
    "import re \n",
    "\n",
    "f = ur.urlopen('https://resultados.as.com/resultados/futbol/primera/jornada')\n",
    "s = f.read().decode()\n"
   ]
  },
  {
   "cell_type": "code",
   "execution_count": 40,
   "metadata": {},
   "outputs": [],
   "source": [
    "# Método para eliminar tags html que no nos interesan con ER \n",
    "def cleanhtml(raw_html):\n",
    "    cleanr = re.compile('<.*?>')\n",
    "    cleantext = re.sub(cleanr,'',raw_html)\n",
    "    return cleantext"
   ]
  },
  {
   "cell_type": "code",
   "execution_count": 16,
   "metadata": {},
   "outputs": [
    {
     "name": "stdout",
     "output_type": "stream",
     "text": [
      "['/resultados/futbol/primera/2018_2019/jornada/regular_a_1/',\n",
      " '/resultados/futbol/primera/2018_2019/jornada/regular_a_2/',\n",
      " '/resultados/futbol/primera/2018_2019/jornada/regular_a_3/',\n",
      " '/resultados/futbol/primera/2018_2019/jornada/regular_a_4/',\n",
      " '/resultados/futbol/primera/2018_2019/jornada/regular_a_5/',\n",
      " '/resultados/futbol/primera/2018_2019/jornada/regular_a_6/',\n",
      " '/resultados/futbol/primera/2018_2019/jornada/regular_a_7/',\n",
      " '/resultados/futbol/primera/2018_2019/jornada/regular_a_8/',\n",
      " '/resultados/futbol/primera/2018_2019/jornada/regular_a_9/',\n",
      " '/resultados/futbol/primera/2018_2019/jornada/regular_a_10/',\n",
      " '/resultados/futbol/primera/2018_2019/jornada/regular_a_11/',\n",
      " '/resultados/futbol/primera/2018_2019/jornada/regular_a_12/',\n",
      " '/resultados/futbol/primera/2018_2019/jornada/regular_a_13/',\n",
      " '/resultados/futbol/primera/2018_2019/jornada/regular_a_14/',\n",
      " '/resultados/futbol/primera/2018_2019/jornada/regular_a_15/',\n",
      " '/resultados/futbol/primera/2018_2019/jornada/regular_a_16/',\n",
      " '/resultados/futbol/primera/2018_2019/jornada/regular_a_17/',\n",
      " '/resultados/futbol/primera/2018_2019/jornada/regular_a_18/',\n",
      " '/resultados/futbol/primera/2018_2019/jornada/regular_a_19/',\n",
      " '/resultados/futbol/primera/2018_2019/jornada/regular_a_20/',\n",
      " '/resultados/futbol/primera/2018_2019/jornada/regular_a_21/',\n",
      " '/resultados/futbol/primera/2018_2019/jornada/regular_a_22/',\n",
      " '/resultados/futbol/primera/2018_2019/jornada/regular_a_23/',\n",
      " '/resultados/futbol/primera/2018_2019/jornada/regular_a_24/',\n",
      " '/resultados/futbol/primera/2018_2019/jornada/regular_a_25/',\n",
      " '/resultados/futbol/primera/2018_2019/jornada/regular_a_26/',\n",
      " '/resultados/futbol/primera/2018_2019/jornada/regular_a_27/',\n",
      " '/resultados/futbol/primera/2018_2019/jornada/regular_a_28/',\n",
      " '/resultados/futbol/primera/2018_2019/jornada/regular_a_29/',\n",
      " '/resultados/futbol/primera/2018_2019/jornada/regular_a_30/',\n",
      " '/resultados/futbol/primera/2018_2019/jornada/regular_a_31/',\n",
      " '/resultados/futbol/primera/2018_2019/jornada/regular_a_32/',\n",
      " '/resultados/futbol/primera/2018_2019/jornada/regular_a_33/',\n",
      " '/resultados/futbol/primera/2018_2019/jornada/regular_a_34/',\n",
      " '/resultados/futbol/primera/2018_2019/jornada/regular_a_35/',\n",
      " '/resultados/futbol/primera/2018_2019/jornada/regular_a_36/',\n",
      " '/resultados/futbol/primera/2018_2019/jornada/regular_a_37/',\n",
      " '/resultados/futbol/primera/2018_2019/jornada/regular_a_38/']\n"
     ]
    }
   ],
   "source": [
    "from pprint import pprint     # import para hacer prints boninitos \n",
    "\n",
    "#Obtener url de cada jornada \n",
    "urlJornadas = re.findall('<li>.*?cont-jornada\" href=\"(.*?)\".*?</li>',s,re.DOTALL)\n",
    "\n",
    "pprint(urlJornadas)"
   ]
  },
  {
   "cell_type": "code",
   "execution_count": 65,
   "metadata": {},
   "outputs": [
    {
     "name": "stdout",
     "output_type": "stream",
     "text": [
      "index\n",
      "3\n",
      "[('Jornada 1', '17', '20', 'Ago')]\n"
     ]
    }
   ],
   "source": [
    "import datetime\n",
    "\n",
    "now = datetime.datetime.now()\n",
    "months = ['Ene','Feb','Mar','Abr','May','Jun','Jul','Ago','Sep','Oct','Nov','Dic']\n",
    "day = now.day\n",
    "month = now.month\n",
    "\n",
    "#Abrir la jornada correspondiente para cada url \n",
    "'''for x in urlJornadas:\n",
    "    f = ur.urlopen(\"https://resultados.as.com\"+x)\n",
    "    s = f.read().decode()\n",
    "    print(s + \"\\n\")'''\n",
    "    \n",
    "print(\"index\")\n",
    "print(months.index('Abr'))\n",
    "\n",
    "f = ur.urlopen(\"https://resultados.as.com/resultados/futbol/primera/2018_2019/jornada/regular_a_1/\")\n",
    "jornadai = f.read().decode()\n",
    "\n",
    "#Obtener número de jornada y fecha \n",
    "jornadaFecha = re.findall('<h2 class=\"tit-modulo\">.*?(Jornada \\d*).*?>(\\d\\d) *-* *(\\d\\d)* (.*?)<.*?</h2>',jornadai,re.DOTALL)\n",
    "print(jornadaFecha)\n",
    "\n",
    "\n",
    "if(jornadaFecha[3])\n",
    "\n",
    "    "
   ]
  },
  {
   "cell_type": "code",
   "execution_count": null,
   "metadata": {},
   "outputs": [],
   "source": []
  }
 ],
 "metadata": {
  "kernelspec": {
   "display_name": "Python 3",
   "language": "python",
   "name": "python3"
  },
  "language_info": {
   "codemirror_mode": {
    "name": "ipython",
    "version": 3
   },
   "file_extension": ".py",
   "mimetype": "text/x-python",
   "name": "python",
   "nbconvert_exporter": "python",
   "pygments_lexer": "ipython3",
   "version": "3.7.2"
  }
 },
 "nbformat": 4,
 "nbformat_minor": 2
}
