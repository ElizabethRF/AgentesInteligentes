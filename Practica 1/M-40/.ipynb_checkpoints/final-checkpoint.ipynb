{
 "cells": [
  {
   "cell_type": "code",
   "execution_count": 1,
   "metadata": {
    "scrolled": false
   },
   "outputs": [],
   "source": [
    "import urllib.request as ur # import para obtener la página web \n",
    "import re                   # import para utilizar expresiones regulares \n",
    "\n",
    "# Obtener página web con incidencias de Madrid \n",
    "f = ur.urlopen('http://infocar.dgt.es/etraffic/Incidencias?ca=13&provIci=&caracter=acontecimiento&accion_consultar=Consultar&IncidenciasRETENCION=IncidenciasRETENCION&IncidenciasPUERTOS=IncidenciasPUERTOS&IncidenciasMETEOROLOGICA=IncidenciasMETEOROLOGICA&IncidenciasEVENTOS=IncidenciasEVENTOS&IncidenciasOTROS=IncidenciasOTROS&IncidenciasRESTRICCIONES=IncidenciasRESTRICCIONES&ordenacion=fechahora_ini-DESC')\n",
    "s = f.read().decode()\n",
    "f.close()\n"
   ]
  },
  {
   "cell_type": "code",
   "execution_count": 2,
   "metadata": {},
   "outputs": [],
   "source": [
    "# Método para eliminar tags html que no nos interesan con ER \n",
    "def cleanhtml(raw_html):\n",
    "    cleanr = re.compile('<.*?>')\n",
    "    cleantext = re.sub(cleanr,'',raw_html)\n",
    "    return cleantext"
   ]
  },
  {
   "cell_type": "code",
   "execution_count": 3,
   "metadata": {},
   "outputs": [
    {
     "name": "stdout",
     "output_type": "stream",
     "text": [
      "Incidencias con hora fin\n",
      "[('06:00',\n",
      "  '07/03/2019',\n",
      "  '23:00',\n",
      "  '07/03/2019',\n",
      "  'M-111',\n",
      "  'RESTRICCIONES A MERCANCÍAS PELIGROSAS</b> por <b>CIRCULACIÓN</b> en<b> '\n",
      "  'Túnel Barajas</b>: </span> <span style=\"margin-top:10px; float:left; '\n",
      "  'clear:both\">  -  La carretera  <b> <span style=\"color:#ab3000\">M-111 '\n",
      "  '</span> </b> a la altura de <b>MADRID (MADRID)</b> desde el <b> km 1.1</b> '\n",
      "  'al <b> km 5</b> sentido <b>AMBOS SENTIDOS')]\n",
      "\n",
      "Todas las incidencias\n",
      "[('16:51',\n",
      "  '07/03/2019',\n",
      "  '',\n",
      "  '',\n",
      "  'M-40',\n",
      "  'RETENCIÓN / CONGESTIÓN</b> por <b>CIRCULACIÓN</b> con circulación '\n",
      "  'irregular  en<b></b>: </span> <span style=\"margin-top:10px; float:left; '\n",
      "  'clear:both\">  - La AUTOPISTA / AUTOVÍA <b> <span style=\"color:#ab3000\">M-40 '\n",
      "  '</span> </b> a la altura de <b>MADRID (MADRID)</b> desde el <b> km 12</b> '\n",
      "  'al <b> km 10</b> sentido <b>CRECIENTE DE LA KILOMETRACIÓN'),\n",
      " ('16:16',\n",
      "  '07/03/2019',\n",
      "  '',\n",
      "  '',\n",
      "  'A-2',\n",
      "  'RETENCIÓN / CONGESTIÓN</b> por <b>CIRCULACIÓN</b> y <b>ACCIDENTE</b> con '\n",
      "  'circulación irregular  en<b></b>: </span> <span style=\"margin-top:10px; '\n",
      "  'float:left; clear:both\">  - La AUTOPISTA / AUTOVÍA <b> <span '\n",
      "  'style=\"color:#ab3000\">A-2 </span> </b> a la altura de <b>ALCALA DE HENARES '\n",
      "  '(MADRID)</b> desde el <b> km 38</b> al <b> km 30</b> sentido <b>CRECIENTE '\n",
      "  'DE LA KILOMETRACIÓN</b> hacia <b>Zaragoza'),\n",
      " ('15:37',\n",
      "  '07/03/2019',\n",
      "  '',\n",
      "  '',\n",
      "  'A-3',\n",
      "  'RETENCIÓN / CONGESTIÓN</b> por <b>CIRCULACIÓN</b> con circulación '\n",
      "  'irregular  en<b></b>: </span> <span style=\"margin-top:10px; float:left; '\n",
      "  'clear:both\">  - La AUTOPISTA / AUTOVÍA <b> <span style=\"color:#ab3000\">A-3 '\n",
      "  '</span> </b> a la altura de <b>RIVAS-VACIAMADRID (MADRID)</b> desde el <b> '\n",
      "  'km 16</b> al <b> km 14</b> sentido <b>CRECIENTE DE LA KILOMETRACIÓN</b> '\n",
      "  'hacia <b>Valencia'),\n",
      " ('13:49',\n",
      "  '07/03/2019',\n",
      "  '',\n",
      "  '',\n",
      "  'M-305a',\n",
      "  'ACTIVIDADES DEPORTIVAS (MARCHA PEDESTRE)</b> por <b>ACONTECIMIENTO '\n",
      "  'DEPORTIVO</b> con circulación condicionada  en<b></b>: </span> <span '\n",
      "  'style=\"margin-top:10px; float:left; clear:both\">  - La CARRETERA <b> <span '\n",
      "  'style=\"color:#ab3000\">M-305a </span> </b> a la altura de <b>ARANJUEZ '\n",
      "  '(MADRID)</b> desde el <b> km 5.6</b> al <b> km 5.72</b> sentido '\n",
      "  '<b>CRECIENTE DE LA KILOMETRACIÓN'),\n",
      " ('06:00',\n",
      "  '07/03/2019',\n",
      "  '',\n",
      "  '',\n",
      "  'M-111',\n",
      "  'RESTRICCIONES A MERCANCÍAS PELIGROSAS</b> por <b>CIRCULACIÓN</b> en<b> '\n",
      "  'Túnel Barajas</b>: </span> <span style=\"margin-top:10px; float:left; '\n",
      "  'clear:both\">  -  La carretera  <b> <span style=\"color:#ab3000\">M-111 '\n",
      "  '</span> </b> a la altura de <b>MADRID (MADRID)</b> desde el <b> km 1.1</b> '\n",
      "  'al <b> km 5</b> sentido <b>AMBOS SENTIDOS')]\n"
     ]
    }
   ],
   "source": [
    "from pprint import pprint     # import para hacer prints boninitos \n",
    "\n",
    "dividedByTr = s.split(\"<tr\") # Dividir el string por tr para incidencias con hora fin \n",
    "endTimeElements = [] # Almacenará elementos que tienen hora fin \n",
    "\n",
    "# Obtener las incidencias que tienen hora fin \n",
    "print(\"Incidencias con hora fin\")\n",
    "endTime = re.compile(\".*?<td.*?class='orange'>(\\d\\d:\\d\\d).*?(\\d\\d/\\d\\d/\\d\\d\\d\\d).*?<td.*?(\\d\\d:\\d\\d).*?(\\d\\d/\\d\\d/\\d\\d\\d\\d).*?<td.*?<td.*?<td.*?<b>(.*?)</b>.*?<td.*?<span.*?<b>(.*?)</b></span>.*?</td>.*?tr>\",re.DOTALL)\n",
    "for x in dividedByTr:\n",
    "    confin = endTime.findall(x)\n",
    "    #confin = re.findall(\".*?<td.*?class='orange'>(\\d\\d:\\d\\d).*?(\\d\\d/\\d\\d/\\d\\d\\d\\d).*?<td.*?(\\d\\d:\\d\\d).*?(\\d\\d/\\d\\d/\\d\\d\\d\\d).*?<td.*?<td.*?<td.*?<b>(.*?)</b>.*?<td.*?<span.*?<b>(.*?)</b></span>.*?</td>.*?tr>\",x,re.DOTALL)\n",
    "    if len(confin): # Si el elemento contiene algún dato se agrega a la lista de elementos con hora fin\n",
    "        endTimeElements.append(confin[0]) \n",
    "        pprint(confin)\n",
    "\n",
    "# Obtener todas las incidencias \n",
    "print(\"\\nTodas las incidencias\") # Las cuales incluyen las que tienen hora fin pero no incluyen ese dato\n",
    "conjunto = re.findall(\"<tr.*?<td.*?class='orange'>(\\d\\d:\\d\\d).*?(\\d\\d/\\d\\d/\\d\\d\\d\\d).*?<td.*?(\\d\\d:\\d\\d)?.*?(\\d\\d/\\d\\d/\\d\\d\\d\\d)?.*?<td.*?<td.*?<td.*?<b>(.*?)</b>.*?<td.*?<span.*?<b>(.*?)</b></span>.*?</td>.*?\",s,re.DOTALL)\n",
    "pprint(conjunto)\n",
    "\n"
   ]
  },
  {
   "cell_type": "code",
   "execution_count": 4,
   "metadata": {},
   "outputs": [
    {
     "name": "stdout",
     "output_type": "stream",
     "text": [
      "Hubo un atasco en la carretera M-111 que inicio a las 06:00 el día 07/03/2019 el cual terminó a las 23:00 el día 07/03/2019 con la siguientes características:\n",
      "RESTRICCIONES A MERCANCÍAS PELIGROSAS por CIRCULACIÓN en Túnel Barajas:    -  La carretera   M-111   a la altura de MADRID (MADRID) desde el  km 1.1 al  km 5 sentido AMBOS SENTIDOS\n",
      "\n",
      "Existe un atasco en la carretera M-40 que inicio a las 16:51 el día 07/03/2019 con la siguientes características:\n",
      "RETENCIÓN / CONGESTIÓN por CIRCULACIÓN con circulación irregular  en:    - La AUTOPISTA / AUTOVÍA  M-40   a la altura de MADRID (MADRID) desde el  km 12 al  km 10 sentido CRECIENTE DE LA KILOMETRACIÓN\n",
      "\n",
      "Existe un atasco en la carretera A-2 que inicio a las 16:16 el día 07/03/2019 con la siguientes características:\n",
      "RETENCIÓN / CONGESTIÓN por CIRCULACIÓN y ACCIDENTE con circulación irregular  en:    - La AUTOPISTA / AUTOVÍA  A-2   a la altura de ALCALA DE HENARES (MADRID) desde el  km 38 al  km 30 sentido CRECIENTE DE LA KILOMETRACIÓN hacia Zaragoza\n",
      "\n",
      "Existe un atasco en la carretera A-3 que inicio a las 15:37 el día 07/03/2019 con la siguientes características:\n",
      "RETENCIÓN / CONGESTIÓN por CIRCULACIÓN con circulación irregular  en:    - La AUTOPISTA / AUTOVÍA  A-3   a la altura de RIVAS-VACIAMADRID (MADRID) desde el  km 16 al  km 14 sentido CRECIENTE DE LA KILOMETRACIÓN hacia Valencia\n",
      "\n",
      "Existe un atasco en la carretera M-305a que inicio a las 13:49 el día 07/03/2019 con la siguientes características:\n",
      "ACTIVIDADES DEPORTIVAS (MARCHA PEDESTRE) por ACONTECIMIENTO DEPORTIVO con circulación condicionada  en:    - La CARRETERA  M-305a   a la altura de ARANJUEZ (MADRID) desde el  km 5.6 al  km 5.72 sentido CRECIENTE DE LA KILOMETRACIÓN\n",
      "\n"
     ]
    }
   ],
   "source": [
    "diccionario = {} # variable que se utilizará para almacenar las incidencias una sola vez \n",
    "\n",
    "for x in range(len(endTimeElements)): # se ejecuta para cada elemento con hora fin \n",
    "    identificador = endTimeElements[x][0] + endTimeElements[x][1] + endTimeElements[x][4]  # concatenación de valores para crear identificador para diccionario\n",
    "    diccionario.update({identificador : endTimeElements[x]}) # agregación de valores al diccionario\n",
    "\n",
    "for x in range(len(conjunto)): # se ejecuta para cada elemento\n",
    "    identificador = conjunto[x][0] + conjunto[x][1] + conjunto[x][4] # concatenación de valores para crear identificador para diccionario\n",
    "    if diccionario.get(identificador) == None:    # En caso de que el identificador exista, salta este paso (es decir, el elemento tenía hora fin)\n",
    "        diccionario.update({identificador : conjunto[x]}) # Si el identificador no existe, se crea un nuevo elemento en el diccionario\n",
    "'''\n",
    "Para todas las carreteras\n",
    "Indica que hubo un atasco si la incidencia tiene hora fin \n",
    "Indica que existe un atasco si la incidencia no tiene hora fin \n",
    "'''\n",
    "        \n",
    "for x in diccionario:\n",
    "    valores = diccionario.get(x) # obtener el valor correspondiente para el identificador \n",
    "    fin = \"\" # declarar variable para mensaje en caso de que la incidencia tenga hora fin\n",
    "    cleantext =  cleanhtml(valores[5]) # quitar las etiquetas de html del texto que describe la incidencia \n",
    "    if valores[2] != '':  # En caso de que exista una hora fin\n",
    "        mensaje = \"Hubo un atasco en la carretera \" + valores[4]\n",
    "        fin = \" el cual terminó a las \" + valores[2] + \" el día \" + valores[3]\n",
    "    else: \n",
    "        mensaje = \"Existe un atasco en la carretera \" + valores[4]\n",
    "    mensaje = mensaje + \" que inicio a las \" + valores[0] + \" el día \" + valores[1]\n",
    "    mensaje = mensaje + fin\n",
    "    mensaje = mensaje + \" con la siguientes características:\\n\" +  cleantext\n",
    "    \n",
    "    print(mensaje+\"\\n\")\n",
    "    \n"
   ]
  },
  {
   "cell_type": "code",
   "execution_count": 5,
   "metadata": {},
   "outputs": [
    {
     "name": "stdout",
     "output_type": "stream",
     "text": [
      "Existe un atasco en la carretera M-40 que inicio a las 16:51 el día 07/03/2019 con la siguientes características:\n",
      "RETENCIÓN / CONGESTIÓN por CIRCULACIÓN con circulación irregular  en:    - La AUTOPISTA / AUTOVÍA  M-40   a la altura de MADRID (MADRID) desde el  km 12 al  km 10 sentido CRECIENTE DE LA KILOMETRACIÓN\n",
      "\n"
     ]
    }
   ],
   "source": [
    "'''\n",
    "Para la carretera M-40 \n",
    "Indica que hubo un atasco si la incidencia tiene hora fin \n",
    "Indica que existe un atasco si la incidencia no tiene hora fin \n",
    "'''\n",
    "\n",
    "for x in diccionario:\n",
    "    if \"M-40\" in x: \n",
    "        valores = diccionario.get(x) # obtener el valor correspondiente para el identificador \n",
    "        fin = \"\" # declarar variable para mensaje en caso de que la incidencia tenga hora fin\n",
    "        cleantext =  cleanhtml(valores[5]) # quitar las etiquetas de html del texto que describe la incidencia \n",
    "        if valores[2] != '':  # En caso de que exista una hora fin\n",
    "            mensaje = \"Hubo un atasco en la carretera \" + valores[4]\n",
    "            fin = \" el cual terminó a las \" + valores[2] + \" el día \" + valores[3]\n",
    "        else: \n",
    "            mensaje = \"Existe un atasco en la carretera \" + valores[4]\n",
    "        mensaje = mensaje + \" que inicio a las \" + valores[0] + \" el día \" + valores[1]\n",
    "        mensaje = mensaje + fin\n",
    "        mensaje = mensaje + \" con la siguientes características:\\n\" +  cleantext\n",
    "\n",
    "        print(mensaje+\"\\n\")\n",
    "    \n"
   ]
  },
  {
   "cell_type": "code",
   "execution_count": null,
   "metadata": {},
   "outputs": [],
   "source": []
  }
 ],
 "metadata": {
  "kernelspec": {
   "display_name": "Python 3",
   "language": "python",
   "name": "python3"
  },
  "language_info": {
   "codemirror_mode": {
    "name": "ipython",
    "version": 3
   },
   "file_extension": ".py",
   "mimetype": "text/x-python",
   "name": "python",
   "nbconvert_exporter": "python",
   "pygments_lexer": "ipython3",
   "version": "3.7.2"
  }
 },
 "nbformat": 4,
 "nbformat_minor": 2
}
