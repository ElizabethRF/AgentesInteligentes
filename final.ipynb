{
 "cells": [
  {
   "cell_type": "code",
   "execution_count": 5,
   "metadata": {
    "scrolled": false
   },
   "outputs": [],
   "source": [
    "import urllib.request as ur # import para obtener la página web \n",
    "import re                   # import para utilizar expresiones regulares \n",
    "\n",
    "# Obtener página web con incidencias de Madrid \n",
    "f = ur.urlopen('http://infocar.dgt.es/etraffic/Incidencias?ca=13&provIci=&caracter=acontecimiento&accion_consultar=Consultar&IncidenciasRETENCION=IncidenciasRETENCION&IncidenciasPUERTOS=IncidenciasPUERTOS&IncidenciasMETEOROLOGICA=IncidenciasMETEOROLOGICA&IncidenciasEVENTOS=IncidenciasEVENTOS&IncidenciasOTROS=IncidenciasOTROS&IncidenciasRESTRICCIONES=IncidenciasRESTRICCIONES&ordenacion=fechahora_ini-DESC')\n",
    "s = f.read().decode()\n",
    "f.close()\n"
   ]
  },
  {
   "cell_type": "code",
   "execution_count": 8,
   "metadata": {},
   "outputs": [],
   "source": [
    "# Método para eliminar tags html que no nos interesan con ER \n",
    "def cleanhtml(raw_html):\n",
    "    cleanr = re.compile('<.*?>')\n",
    "    cleantext = re.sub(cleanr,'',raw_html)\n",
    "    return cleantext"
   ]
  },
  {
   "cell_type": "code",
   "execution_count": 8,
   "metadata": {},
   "outputs": [
    {
     "name": "stdout",
     "output_type": "stream",
     "text": [
      "Incidencias con hora fin\n",
      "[]\n",
      "\n",
      "Todas las incidencias\n",
      "[]\n"
     ]
    }
   ],
   "source": [
    "from pprint import pprint     # import para hacer prints boninitos \n",
    "\n",
    "# Obtener las incidencias que tienen hora fin \n",
    "print(\"Incidencias con hora fin\")\n",
    "confin = re.findall(\"<tr.*?<td.*?class='orange'>(\\d\\d:\\d\\d).*?(\\d\\d/\\d\\d/\\d\\d\\d\\d).*?<td.*?(\\d\\d:\\d\\d).*?(\\d\\d/\\d\\d/\\d\\d\\d\\d).*?<td.*?<td.*?<td.*?<b>(M-40)</b>.*?<td.*?<span.*?<b>(.*?)</b></span>.*?</td>.*?\",s,re.DOTALL)\n",
    "pprint(confin)\n",
    "\n",
    "# Obtener todas las incidencias \n",
    "print(\"\\nTodas las incidencias\")\n",
    "conjunto = re.findall(\"<tr.*?<td.*?class='orange'>(\\d\\d:\\d\\d).*?(\\d\\d/\\d\\d/\\d\\d\\d\\d).*?<td.*?(\\d\\d:\\d\\d)?.*?(\\d\\d/\\d\\d/\\d\\d\\d\\d)?.*?<td.*?<td.*?<td.*?<b>(M-40)</b>.*?<td.*?<span.*?<b>(.*?)</b></span>.*?</td>.*?\",s,re.DOTALL)\n",
    "pprint(conjunto)\n"
   ]
  },
  {
   "cell_type": "code",
   "execution_count": 12,
   "metadata": {},
   "outputs": [
    {
     "name": "stdout",
     "output_type": "stream",
     "text": [
      "diccionario\n",
      "{}\n"
     ]
    }
   ],
   "source": [
    "diccionario = {} # variable que se utilizará para almacenar las incidencias una sola vez \n",
    "\n",
    "for x in range(len(confin)):\n",
    "    identificador = confin[x][0] + confin[x][1] + confin[x][4]  # concatenación de valores para crear identificador para diccionario\n",
    "    diccionario.update({identificador : confin[x]}) # agregación de valores al diccionario\n",
    "\n",
    "for x in range(len(conjunto)):\n",
    "    identificador = conjunto[x][0] + conjunto[x][1] + conjunto[x][4] # concatenación de valores para crear identificador para diccionario\n",
    "    if diccionario.get(identificador) == None:    # En caso de que el identificador exista, salta este paso\n",
    "        diccionario.update({identificador : conjunto[x]}) # Si el identificador no existe, se crea un nuevo elemento en el diccionario\n",
    "        \n",
    "print(\"diccionario\")\n",
    "pprint(diccionario)\n",
    "    \n",
    "for x in diccionario:\n",
    "    valores = diccionario.get(x) # obtener el valor correspondiente para el identificador \n",
    "    fin = \"\" # declarar variable para mensaje en caso de que la incidencia tenga hora fin\n",
    "    cleantext =  cleanhtml(valores[5]) # quitar las etiquetas de html del texto que describe la incidencia \n",
    "    if valores[2] != '':  # En caso de que exista una hora fin\n",
    "        mensaje = \"Hubo un atasco en la carretera \" + valores[4]\n",
    "        fin = \" el cual terminó a las \" + valores[2] + \" el día \" + valores[3]\n",
    "    else: \n",
    "        mensaje = \"Existe un atasco en la carretera \" + valores[4]\n",
    "    mensaje = mensaje + \" que inicio a las \" + valores[0] + \" el día \" + valores[1]\n",
    "    mensaje = mensaje + fin\n",
    "    mensaje = mensaje + \" con la siguientes características:\\n\" +  cleantext\n",
    "    \n"
   ]
  }
 ],
 "metadata": {
  "kernelspec": {
   "display_name": "Python 3",
   "language": "python",
   "name": "python3"
  },
  "language_info": {
   "codemirror_mode": {
    "name": "ipython",
    "version": 3
   },
   "file_extension": ".py",
   "mimetype": "text/x-python",
   "name": "python",
   "nbconvert_exporter": "python",
   "pygments_lexer": "ipython3",
   "version": "3.7.2"
  }
 },
 "nbformat": 4,
 "nbformat_minor": 2
}
