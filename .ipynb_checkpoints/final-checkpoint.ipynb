{
 "cells": [
  {
   "cell_type": "code",
   "execution_count": 3,
   "metadata": {
    "scrolled": false
   },
   "outputs": [
    {
     "name": "stdout",
     "output_type": "stream",
     "text": [
      "\r\n",
      "\r\n",
      "\r\n",
      "\r\n",
      "\r\n",
      "\r\n",
      "\r\n",
      "\r\n",
      "\r\n",
      "\r\n",
      "\r\n",
      "<!DOCTYPE html PUBLIC \"-//W3C//DTD XHTML 1.0 Transitional//EN\" \"http://www.w3.org/TR/xhtml1/DTD/xhtml1-transitional.dtd\">\r\n",
      "<html lang=\"es\" xml:lang=\"es\" xmlns=\"http://www.w3.org/1999/xhtml\">\r\n",
      "  \t<head>\r\n",
      "\t   \t<base href=\"http://infocar.dgt.es:80/etraffic/\" />\r\n",
      "\t   \t<link rel=\"icon\" type=\"image/png\" href=\"images/favicon.ico\" />\r\n",
      "\t    \r\n",
      "\t    <title>Incidencias de circulación</title>\r\n",
      "\t    \r\n",
      "\t   \t<script type=\"text/javascript\" src=\"js/common.js?fecha=21022019\"></script>\r\n",
      "\t   \t<script type=\"text/javascript\" src=\"js/commons.js?fecha=21022019\"></script>\r\n",
      "\t  \t<script type=\"text/javascript\" src=\"js/ajax.js?fecha=21022019\"></script>\r\n",
      "\t   \t<script type=\"text/javascript\" src=\"js/config/textos_es_ES.js?fecha=21022019\"></script>\r\n",
      "\t   \t<link rel=\"stylesheet\" type=\"text/css\" href=\"css/style.css?fecha=21022019\" media=\"all\" />\r\n",
      "\t\t<link rel=\"stylesheet\" type=\"text/css\" href=\"css/fonts.css?fecha=21022019\" media=\"all\" />\r\n",
      "\t\t<link rel=\"stylesheet\" type=\"text/css\" href=\"css/niftyCorners.css\" media=\"all\" />\r\n",
      "\t   \t\r\n",
      "\t   \t<link rel=\"alternate\" type=\"application/rss+xml\" title=\"Todas las incidencias\" href=\"http://infocar.dgt.es:80/etraffic/rss_todas.xml\" />\r\n",
      "\t\t\r\n",
      "\t\t\t\t<link rel=\"alternate\" type=\"application/rss+xml\" title=\"Incidencias de Desconocida\" href=\"http://infocar.dgt.es:80/etraffic/rss_ca_0.xml\" />\r\n",
      "\t\t\r\n",
      "\t\t\t\t<link rel=\"alternate\" type=\"application/rss+xml\" title=\"Incidencias de Andalucía\" href=\"http://infocar.dgt.es:80/etraffic/rss_ca_1.xml\" />\r\n",
      "\t\t\r\n",
      "\t\t\t\t<link rel=\"alternate\" type=\"application/rss+xml\" title=\"Incidencias de Aragón\" href=\"http://infocar.dgt.es:80/etraffic/rss_ca_2.xml\" />\r\n",
      "\t\t\r\n",
      "\t\t\t\t<link rel=\"alternate\" type=\"application/rss+xml\" title=\"Incidencias de Asturias, Principado de\" href=\"http://infocar.dgt.es:80/etraffic/rss_ca_3.xml\" />\r\n",
      "\t\t\r\n",
      "\t\t\t\t<link rel=\"alternate\" type=\"application/rss+xml\" title=\"Incidencias de Balears, Illes\" href=\"http://infocar.dgt.es:80/etraffic/rss_ca_4.xml\" />\r\n",
      "\t\t\r\n",
      "\t\t\t\t<link rel=\"alternate\" type=\"application/rss+xml\" title=\"Incidencias de Canarias\" href=\"http://infocar.dgt.es:80/etraffic/rss_ca_5.xml\" />\r\n",
      "\t\t\r\n",
      "\t\t\t\t<link rel=\"alternate\" type=\"application/rss+xml\" title=\"Incidencias de Cantabria\" href=\"http://infocar.dgt.es:80/etraffic/rss_ca_6.xml\" />\r\n",
      "\t\t\r\n",
      "\t\t\t\t<link rel=\"alternate\" type=\"application/rss+xml\" title=\"Incidencias de Castilla y León\" href=\"http://infocar.dgt.es:80/etraffic/rss_ca_7.xml\" />\r\n",
      "\t\t\r\n",
      "\t\t\t\t<link rel=\"alternate\" type=\"application/rss+xml\" title=\"Incidencias de Castilla-La Mancha\" href=\"http://infocar.dgt.es:80/etraffic/rss_ca_8.xml\" />\r\n",
      "\t\t\r\n",
      "\t\t\t\t<link rel=\"alternate\" type=\"application/rss+xml\" title=\"Incidencias de Cataluña\" href=\"http://infocar.dgt.es:80/etraffic/rss_ca_9.xml\" />\r\n",
      "\t\t\r\n",
      "\t\t\t\t<link rel=\"alternate\" type=\"application/rss+xml\" title=\"Incidencias de Comunitat Valenciana\" href=\"http://infocar.dgt.es:80/etraffic/rss_ca_10.xml\" />\r\n",
      "\t\t\r\n",
      "\t\t\t\t<link rel=\"alternate\" type=\"application/rss+xml\" title=\"Incidencias de Extremadura\" href=\"http://infocar.dgt.es:80/etraffic/rss_ca_11.xml\" />\r\n",
      "\t\t\r\n",
      "\t\t\t\t<link rel=\"alternate\" type=\"application/rss+xml\" title=\"Incidencias de Galicia\" href=\"http://infocar.dgt.es:80/etraffic/rss_ca_12.xml\" />\r\n",
      "\t\t\r\n",
      "\t\t\t\t<link rel=\"alternate\" type=\"application/rss+xml\" title=\"Incidencias de Madrid, Comunidad de\" href=\"http://infocar.dgt.es:80/etraffic/rss_ca_13.xml\" />\r\n",
      "\t\t\r\n",
      "\t\t\t\t<link rel=\"alternate\" type=\"application/rss+xml\" title=\"Incidencias de Murcia, Región de\" href=\"http://infocar.dgt.es:80/etraffic/rss_ca_14.xml\" />\r\n",
      "\t\t\r\n",
      "\t\t\t\t<link rel=\"alternate\" type=\"application/rss+xml\" title=\"Incidencias de Navarra, Comunidad Foral de\" href=\"http://infocar.dgt.es:80/etraffic/rss_ca_15.xml\" />\r\n",
      "\t\t\r\n",
      "\t\t\t\t<link rel=\"alternate\" type=\"application/rss+xml\" title=\"Incidencias de País Vasco\" href=\"http://infocar.dgt.es:80/etraffic/rss_ca_16.xml\" />\r\n",
      "\t\t\r\n",
      "\t\t\t\t<link rel=\"alternate\" type=\"application/rss+xml\" title=\"Incidencias de Rioja, La\" href=\"http://infocar.dgt.es:80/etraffic/rss_ca_17.xml\" />\r\n",
      "\t\t\r\n",
      "\t\t\t\t<link rel=\"alternate\" type=\"application/rss+xml\" title=\"Incidencias de Ceuta\" href=\"http://infocar.dgt.es:80/etraffic/rss_ca_18.xml\" />\r\n",
      "\t\t\r\n",
      "\t\t\t\t<link rel=\"alternate\" type=\"application/rss+xml\" title=\"Incidencias de Melilla\" href=\"http://infocar.dgt.es:80/etraffic/rss_ca_19.xml\" />\r\n",
      "\t\t\r\n",
      "\t\t\r\n",
      "\t\t<link rel=\"stylesheet\" href=\"js/jquery/themes/base/jquery.ui.all.css\"/>\t\t\r\n",
      "\t\t<script type=\"text/javascript\" src=\"js/jquery/jquery-1.7.1.js\"></script>\r\n",
      "\t\t<script type=\"text/javascript\" src=\"js/jquery/ui/jquery.ui.core.js\"></script>\r\n",
      "\t\t<script type=\"text/javascript\" src=\"js/jquery/ui/jquery.ui.widget.js\"></script>\r\n",
      "\t\t<script type=\"text/javascript\" src=\"js/jquery/ui/jquery.ui.datepicker.js\"></script>\t\t\t\r\n",
      "\t\t<link rel=\"stylesheet\" href=\"js/jquery/css/cupertino/jquery-ui-1.8.17.custom.css\"/>\r\n",
      "\t\t<link rel=\"stylesheet\" href=\"js/jquery/css/lisitt.css?fecha=21022019\"/>\r\n",
      "\t\t\r\n",
      "\t\t<script type=\"text/javascript\">\t\t\t\r\n",
      "\t\t\r\n",
      "\t\t\tvar filtroHoraIni = 'null';\r\n",
      "\t\t\tvar filtroHoraFin = 'null';\r\n",
      "\t\t\t\r\n",
      "\t\t\t$(function()\r\n",
      "\t\t\t{\r\n",
      "\t\t\t\tdates = $( \"#filtroHoraIni, #filtroHoraFin\" ).datepicker({\r\n",
      "\t\t\t\t\tminDate: -0, \r\n",
      "\t\t\t\t\tmaxDate: +15,\r\n",
      "\t\t\t\t\tdateFormat: \"dd/mm/yy\",\r\n",
      "\t\t\t\t\tdefaultDate: \"+1w\",\r\n",
      "\t\t\t\t\tchangeMonth: true,\r\n",
      "\t\t\t\t\tnumberOfMonths: 1,\r\n",
      "\t\t\t\t\tshowButtonPanel: false,\r\n",
      "\t\t\t\t\tdayNames: ['Domingo', 'Lunes', 'Martes', 'Miércoles', 'Jueves', 'Viernes', 'Sabado'], // días de la semana\r\n",
      "\t\t\t\t    dayNamesMin: ['D', 'L', 'M', 'X', 'J', 'V', 'S'], // días de la semana (versión super-corta)\r\n",
      "\t\t\t\t    dayNamesShort: ['Dom', 'Lun', 'Mar', 'Mie', 'Jue', 'Vie', 'Sab'], // días de la semana (versión corta)\r\n",
      "\t\t\t\t    firstDay: 1, // primer día de la semana (Lunes)\r\n",
      "\t\t\t\t    monthNames: ['Enero', 'Febrero', 'Marzo', 'Abril', 'Mayo', 'Junio', 'Julio', 'Agosto', 'Septiembre', 'Octubre', 'Noviembre', 'Diciembre'], // meses\r\n",
      "\t\t\t\t    monthNamesShort: ['Ene', 'Feb', 'Mar', 'Abr', 'May', 'Jun', 'Jul', 'Ago', 'Sep', 'Oct', 'Nov', 'Dic'], // meses\r\n",
      "\t\t\t\t\tonSelect: function( selectedDate )\r\n",
      "\t\t\t\t\t{\r\n",
      "\t\t\t\t\t\tvar option = this.id == \"filtroHoraIni\" ? \"minDate\" : \"maxDate\",\r\n",
      "\t\t\t\t\t\tinstance = $( this ).data( \"datepicker\" ),\r\n",
      "\t\t\t\t\t\tselectedDate = $.datepicker.parseDate(instance.settings.dateFormat || $.datepicker._defaults.dateFormat,selectedDate, instance.settings );\r\n",
      "\t\t\t\t\t\tdates.not( this ).datepicker( \"option\", option, selectedDate );\t\t\t\t\t\t\r\n",
      "\t\t\t\t\t}\r\n",
      "\t\t\t\t});\t\r\n",
      "\t\t\t\t\r\n",
      "\t\t\t\t//Asignamos el valor que teniamos en sesion de la petición anterior.\r\n",
      "\t\t\t\tif(filtroHoraIni!=null && filtroHoraIni!=\"\" && filtroHoraIni!=\"NaN\" && filtroHoraIni!=\"null\")\r\n",
      "\t\t\t\t\t$('#filtroHoraIni').val(filtroHoraIni);\r\n",
      "\t\t\t\t\r\n",
      "\t\t\t\tif(filtroHoraFin != null && filtroHoraFin !=\"\" && filtroHoraFin != \"NaN\" && filtroHoraFin != \"null\")\r\n",
      "\t\t\t\t\t$('#filtroHoraFin').val(filtroHoraFin);\r\n",
      "\t\t\t});\r\n",
      "\t\t\t\r\n",
      "\t\t\tfunction borrarFiltro()  \r\n",
      "\t\t\t{\r\n",
      "\t\t\t\tdocument.getElementById('ca').selectedIndex = 0;\r\n",
      "\t\t\t\t\r\n",
      "\t\t\t\twhile(document.getElementById('provIci').options[1] != null)\r\n",
      "\t\t\t\t{\r\n",
      "\t\t\t\t\tdocument.getElementById('provIci').options[1] = null;\r\n",
      "\t\t\t\t}\r\n",
      "\t\t\t\tdocument.getElementById('provIci').selectedIndex = 0;\t\t\t\t\t\r\n",
      "\t\t\t\t\r\n",
      "\t\t\t\t//Ahora reiniciar les fechas...\r\n",
      "\t\t\t\t$.datepicker._clearDate( $('#filtroHoraIni') );\t\t\t\t\r\n",
      "\t\t\t\t$.datepicker._clearDate( $('#filtroHoraFin') );\t\r\n",
      "\t\t\t\t\r\n",
      "\t\t\t\t$('#filtroHoraFin').datepicker('option', 'minDate', '0');\r\n",
      "\t\t\t\t$('#filtroHoraFin').datepicker('option', 'maxDate', '15');\r\n",
      "\t\t\t\t\r\n",
      "\t\t\t\t$('#filtroHoraIni').datepicker('option', 'maxDate', '15');\r\n",
      "\t\t\t}\r\n",
      "\t\t\t\r\n",
      "\t\t</script>\t\t\r\n",
      "  \t</head>\r\n",
      "  \r\n",
      "\t<body>\r\n",
      "\t\t<h1 class=\"oculto\">DGT direcci&oacute;n general de tr&aacute;fico</h1>\r\n",
      "\t\t<form action=\"Incidencias\" name=\"consultab\" id=\"consulta\" style=\"width:100%\" method=\"get\"> \r\n",
      "\t\t<div id=\"incidencias_p\">\r\n",
      "\t\t\r\n",
      "\t\t\t<div class=\"cabecera\">Incidencias de circulación</div>\t\t\t\r\n",
      "\t\t\r\n",
      "\t\t \t\r\n",
      "\t\t\t<div class=\"sele\">\r\n",
      "\t\t\t\t<label for=\"ca\" class=\"ftl\">\r\n",
      "\t\t\t\t\t<span>Comunidad Autónoma</span><br />\r\n",
      "\t\t\t\t\t<select name=\"ca\" id=\"ca\" class=\"ccaa\"  onchange=\"getProvincia4CCAA(document.forms['consulta'].ca.options[document.forms['consulta'].ca.selectedIndex].value)\">\r\n",
      "\t\t\t\t\t\t<option value=\"\">todas las CC.AA. ...</option>\r\n",
      "\t\t\t\t\t\t\t<option value= '0'>Desconocida </option>\n",
      "<option value= '1'>Andalucía </option>\n",
      "<option value= '2'>Aragón </option>\n",
      "<option value= '3'>Asturias, Principado de </option>\n",
      "<option value= '4'>Balears, Illes </option>\n",
      "<option value= '5'>Canarias </option>\n",
      "<option value= '6'>Cantabria </option>\n",
      "<option value= '7'>Castilla y León </option>\n",
      "<option value= '8'>Castilla-La Mancha </option>\n",
      "<option value= '9'>Cataluña </option>\n",
      "<option value= '10'>Comunitat Valenciana </option>\n",
      "<option value= '11'>Extremadura </option>\n",
      "<option value= '12'>Galicia </option>\n",
      "<option selected='selected' value= '13'>Madrid, Comunidad de </option>\n",
      "<option value= '14'>Murcia, Región de </option>\n",
      "<option value= '15'>Navarra, Comunidad Foral de </option>\n",
      "<option value= '16'>País Vasco </option>\n",
      "<option value= '17'>Rioja, La </option>\n",
      "<option value= '18'>Ceuta </option>\n",
      "<option value= '19'>Melilla </option>\n",
      "\r\n",
      "\t\t\t\t\t</select>\r\n",
      "\t\t\t\t</label>\r\n",
      "\t\t\t\t\r\n",
      "\t\t\t\t<input type=\"submit\" alt=\"Enviar\" name=\"accion\" id=\"accion\" value=\"getProvincias4CA\" class=\"ftl botonFlecha noScript\"  style=\"margin-top:28px;\" />\r\n",
      "\t\t\t\r\n",
      "\t\t\t\t<label for=\"provIci\" class=\"ftl sepInci\">\r\n",
      "\t\t\t\t\t<span>Provincia </span><br/>\r\n",
      "\t\t\t\t \t <select id=\"provIci\"  name=\"provIci\">\r\n",
      "\t\t\t\t    \t<option value=\"\"> todas las provincias ... </option>\r\n",
      "\t\t\t\t\t\t\t<option value= '28'>MADRID </option>\n",
      "\r\n",
      "\t\t\t\t \t</select>\r\n",
      "\t\t\t\t</label>\r\n",
      "\t\t\t\t\t  \r\n",
      "\t\t\t\t<div id=\"numInc\" class=\"ftl sepInci\">\t  \r\n",
      "\t\t\t\tIncidencias de circulación&nbsp;:&nbsp;<b>4</b>\t\t\t  \r\n",
      "\t\t\t\t</div>\t\t\t\t\t\t\t\r\n",
      "\t\t\t\t\t\t\r\n",
      "\t\t\t\t<input type=\"hidden\" name=\"caracter\" id=\"caracter\" value=\"acontecimiento\"/>\n",
      "\t\r\n",
      "\t\t\t\t\r\n",
      "\t\t\t\t<!-- FECHAS DE INICIO Y FIN DEL FILTRO -->\r\n",
      "\t\t\t\t\t\t\t\r\n",
      "\t\t\t\t\r\n",
      "\t\t\t\t<div id=\"filtro\" style=\"float: right;margin-right:10px;margin-top:20px;\">\t\t\t\t\t\t\t\t\t\r\n",
      "\t\t\t\t\t<input class=\"botonSINimgen\" type=\"submit\" id=\"consultar\" value=\"Consultar\" \r\n",
      "\t\t\t\t\t\ttitle=\"Consultar\" \r\n",
      "\t\t\t\t\t\tname=\"accion_consultar\" \r\n",
      "\t\t\t\t\t\talt=\"Consultar\" \r\n",
      "\t\t\t\t\t/>\r\n",
      "\t\t\t\t</div>\t\t\t\r\n",
      "\t\t\t\t\t\r\n",
      "\t\t\t</div>\r\n",
      "\t\t\t<div id=\"buskeda_pop\" class=\"clear\">\r\n",
      "\t\t\t\t\r\n",
      "\t\t\t\t\t\t\t\t\t\t\t\t\t\t\t\t\r\n",
      "\t\t\t\t\t<ul>\r\n",
      "\t\t\t\t\t\t<li>\r\n",
      "\t\t\t\t\t\t\t<input type=\"checkbox\" value=\"IncidenciasRETENCION\" name=\"IncidenciasRETENCION\" id=\"IncidenciasRETENCION\" alt=\"Retenciones\"\r\n",
      "\t\t\t\t\t\t\tchecked='checked' />\r\n",
      "\t\t\t\t\t\t\t<label for=\"IncidenciasRETENCION\"><b style=\"padding-right: 10px;\">Retenciones</b></label>\r\n",
      "\t\t\t\t\t\t</li>\r\n",
      "\t\t\t\t\t\t<li>\r\n",
      "\t\t\t\t\t\t\t<input type=\"checkbox\" value=\"IncidenciasOBRAS\" name=\"IncidenciasOBRAS\" id=\"IncidenciasOBRAS\" alt=\"Obras\"\r\n",
      "\t\t\t\t\t\t\t />\r\n",
      "\t\t\t\t\t\t\t<label for=\"IncidenciasOBRAS\"><b style=\"padding-right: 10px;\">Obras</b></label>\r\n",
      "\t\t\t\t\t\t</li>\r\n",
      "\t\t\t\t\t\t<li>\r\n",
      "\t\t\t\t\t\t\t<input type=\"checkbox\" value=\"IncidenciasPUERTOS\" name=\"IncidenciasPUERTOS\" id=\"IncidenciasPUERTOS\" alt=\"Puertos\"\r\n",
      "\t\t\t\t\t\t\tchecked='checked' />\r\n",
      "\t\t\t\t\t\t\t<label for=\"IncidenciasPUERTOS\"><b style=\"padding-right: 10px;\">Puertos</b></label>\r\n",
      "\t\t\t\t\t\t</li>\r\n",
      "\t\t\t\t\t\t<li>\r\n",
      "\t\t\t\t\t\t\t<input type=\"checkbox\" value=\"IncidenciasMETEOROLOGICA\" name=\"IncidenciasMETEOROLOGICA\" id=\"IncidenciasMETEOROLOGICA\" alt=\"Meteorológicos\" \r\n",
      "\t\t\t\t\t\t\tchecked='checked' />\r\n",
      "\t\t\t\t\t\t\t<label for=\"IncidenciasMETEOROLOGICA\"><b style=\"padding-right: 10px;\">Meteorológicos</b></label>\r\n",
      "\t\t\t\t\t\t</li>\t\t\t\t\t\r\n",
      "\t\t\t\t\t\t<li>\r\n",
      "\t\t\t\t\t\t\t<input type=\"checkbox\" value=\"IncidenciasEVENTOS\" name=\"IncidenciasEVENTOS\" id=\"IncidenciasEVENTOS\" alt=\"Eventos\"\r\n",
      "\t\t\t\t\t\t\tchecked='checked' />\r\n",
      "\t\t\t\t\t\t\t<label for=\"IncidenciasEVENTOS\"><b style=\"padding-right: 10px;\">Eventos</b></label>\r\n",
      "\t\t\t\t\t\t</li>\r\n",
      "\t\t\t\t\t\t<li>\r\n",
      "\t\t\t\t\t\t\t<input type=\"checkbox\" value=\"IncidenciasOTROS\" name=\"IncidenciasOTROS\" id=\"IncidenciasOTROS\" alt=\"Otros\"\r\n",
      "\t\t\t\t\t\t\tchecked='checked' />\r\n",
      "\t\t\t\t\t\t\t<label for=\"IncidenciasOTROS\"><b style=\"padding-right: 10px;\">Otros</b></label>\r\n",
      "\t\t\t\t\t\t</li>\r\n",
      "\t\t\t\t\t\t<li class=\"last\">\r\n",
      "\t\t\t\t\t\t\t<input type=\"checkbox\" value=\"IncidenciasRESTRICCIONES\" name=\"IncidenciasRESTRICCIONES\" id=\"IncidenciasRESTRICCIONES\" alt=\"Restricciones\"\r\n",
      "\t\t\t\t\t\t\tchecked='checked' />\r\n",
      "\t\t\t\t\t\t\t<label for=\"IncidenciasRESTRICCIONES\"><b>Restricciones</b></label>\r\n",
      "\t\t\t\t\t\t</li>\r\n",
      "\t\t\t\t\t</ul>\t\r\n",
      "\t\t\t\t\t\t\t\t\t\t\t\t\t\t\t\r\n",
      "\t\t\t\t\r\n",
      "\t\t\t\t\r\n",
      "\t\t\t\t\t\t\t\t\r\n",
      "\t\t\t\t<div align=\"right\" style=\"padding-top:4px; padding-right:5px;\">\r\n",
      "\t\t\t\t\t<a style='font-size: 0.9em;'>Ordenar por&nbsp;:&nbsp;</a>\r\n",
      "\t\t\t\t\t<b>\r\n",
      "\t\t\t\t\t\t    <!-- LINK ORDENAR POR CARRETERA-->\r\n",
      "\t\t\t\t\t\t\t  <a class=\"linkNoActivo\" style='font-size: 0.9em; color:#244da5' href=\"Incidencias?filtroHoraIni=null&amp;filtroHoraFin=null&amp;caracter=acontecimiento&amp;orden=carr_nombre ASC&amp;provIci=&amp;ca=13&amp;IncidenciasRETENCION=IncidenciasRETENCION&amp;IncidenciasPUERTOS=IncidenciasPUERTOS&amp;IncidenciasMETEOROLOGICA=IncidenciasMETEOROLOGICA&amp;IncidenciasOBRAS=null&amp;IncidenciasOTROS=IncidenciasOTROS&amp;IncidenciasEVENTOS=IncidenciasEVENTOS&amp;IncidenciasRESTRICCIONES=IncidenciasRESTRICCIONES\">CARRETERA </a> | \r\n",
      "\t\t\t\t\t\t\t\t\t\t\t\r\n",
      "\t\t\t\t\t\t\t\r\n",
      "\t\t\t\t\t\t\t<!-- LINK ORDENAR POR LOCALIZACIÓN-->\r\n",
      "\t\t\t\t\t\t\t\t<a class=\"linkNoActivo\" style='font-size: 0.9em; color:#244da5' href=\"Incidencias?filtroHoraIni=null&amp;filtroHoraFin=null&amp;caracter=acontecimiento&amp;orden=provincia ASC,poblacion ASC&amp;provIci=&amp;ca=13&amp;IncidenciasRETENCION=IncidenciasRETENCION&amp;IncidenciasPUERTOS=IncidenciasPUERTOS&amp;IncidenciasMETEOROLOGICA=IncidenciasMETEOROLOGICA&amp;IncidenciasOBRAS=null&amp;IncidenciasOTROS=IncidenciasOTROS&amp;IncidenciasEVENTOS=IncidenciasEVENTOS&amp;IncidenciasRESTRICCIONES=IncidenciasRESTRICCIONES\">PROVINCIA / POBLACIÓN</a> |\r\n",
      "\t\t\t\t\t\t\t\t\t\r\n",
      "\t\t\t                 \r\n",
      "\t\t\t                <!-- LINK ORDENAR POR INICIO-->  \r\n",
      "\t\t\t\t\t\t\t<img src='img/ordenDOWN.gif' alt=''></img>  <a class=\"linkActivo\" style='font-size: 0.9em; color:#244da5' href=\"Incidencias?filtroHoraIni=null&amp;filtroHoraFin=null&amp;caracter=acontecimiento&amp;orden=fechahora_ini ASC&amp;provIci=&amp;ca=13&amp;IncidenciasRETENCION=IncidenciasRETENCION&amp;IncidenciasPUERTOS=IncidenciasPUERTOS&amp;IncidenciasMETEOROLOGICA=IncidenciasMETEOROLOGICA&amp;IncidenciasOBRAS=null&amp;IncidenciasOTROS=IncidenciasOTROS&amp;IncidenciasEVENTOS=IncidenciasEVENTOS&amp;IncidenciasRESTRICCIONES=IncidenciasRESTRICCIONES\">INICIO</a> |\r\n",
      "\t\t\t\t\t\t\t\t\t\r\n",
      "\t\t\t\t\t\t\t\r\n",
      "\t\t\t\t\t\t\t <!-- LINK ORDENAR POR FIN-->  \r\n",
      "\t\t\t\t\t\t\t  <a class=\"linkNoActivo\" style='font-size: 0.9em; color:#244da5' href=\"Incidencias?filtroHoraIni=null&amp;filtroHoraFin=null&amp;caracter=acontecimiento&amp;orden=fechahora_fin ASC&amp;provIci=&amp;ca=13&amp;IncidenciasRETENCION=IncidenciasRETENCION&amp;IncidenciasPUERTOS=IncidenciasPUERTOS&amp;IncidenciasMETEOROLOGICA=IncidenciasMETEOROLOGICA&amp;IncidenciasOBRAS=null&amp;IncidenciasOTROS=IncidenciasOTROS&amp;IncidenciasEVENTOS=IncidenciasEVENTOS&amp;IncidenciasRESTRICCIONES=IncidenciasRESTRICCIONES\">FIN</a> |\r\n",
      "\t\t\t\t\t\t\t\t\t\r\n",
      "\t\t\t                 \r\n",
      "\t\t\t                <!-- LINK ORDENAR POR TIPO/NIVEL--> \r\n",
      "\t\t\t\t\t\t\t  <a class=\"linkNoActivo\" style='font-size: 0.9em; color:#244da5' href=\"Incidencias?filtroHoraIni=null&amp;filtroHoraFin=null&amp;caracter=acontecimiento&amp;orden=tipo ASC,nivel ASC&amp;provIci=&amp;ca=13&amp;IncidenciasRETENCION=IncidenciasRETENCION&amp;IncidenciasPUERTOS=IncidenciasPUERTOS&amp;IncidenciasMETEOROLOGICA=IncidenciasMETEOROLOGICA&amp;IncidenciasOBRAS=null&amp;IncidenciasOTROS=IncidenciasOTROS&amp;IncidenciasEVENTOS=IncidenciasEVENTOS&amp;IncidenciasRESTRICCIONES=IncidenciasRESTRICCIONES\">TIPO / NIVEL</a>\t\r\n",
      "\t\t\t\t\t\t\t\t\t\r\n",
      "\t\t\t\t\t</b>\r\n",
      "\t\t\t\t</div>\t\t\t\t\t\r\n",
      "\t\t\t</div>\r\n",
      "\t\t</div>\r\n",
      "\t\t<div class=\"clear\"></div>\r\n",
      "\t\t<table id=\"tablaincidencias\" class=\"tablaincidencias\" cellpadding=\"0\" cellspacing=\"0\" summary=\"Esta tabla indica todas las incidencias que usted ha elegido\">\r\n",
      "\t\t\t<caption><span class=\"oculto\">listado incidencias</span></caption>\r\n",
      "\t\t\t<thead>\r\n",
      "\t\t\t \t <tr>\r\n",
      "\t\t\t\t\t  <th align='center' width=\"6%\"> \r\n",
      "\t\t\t\t\t\t<p>INICIO</p>\r\n",
      "\t\t\t\t\t  </th>\t\r\n",
      "\t\t\t\t\t  <th align='center' width=\"6%\"> \r\n",
      "\t\t\t\t\t\t<p>FIN</p>\r\n",
      "\t\t\t\t\t  </th>\t\r\n",
      "\t\t\t\t\t  <th align='center' width=\"9%\">\r\n",
      "\t\t\t\t\t \t<p>TIPO / NIVEL</p>\t\r\n",
      "\t\t\t\t\t  </th>\t\r\n",
      "\t\t\t\t\t  <th align='left' width=\"12%\">\r\n",
      "\t\t\t\t\t \t<p>PROVINCIA / POBLACIÓN</p>\t\r\n",
      "\t\t\t\t\t  </th>\t\t\r\n",
      "\t\t\t\t\t  <th align='left' width=\"9%\">\r\n",
      "\t\t\t\t\t \t<p>CARRETERA</p>\t\r\n",
      "\t\t\t\t\t  </th>\t\t\t  \r\n",
      "\t\t\t\t\t  <th align='left' width=\"58%\">\r\n",
      "\t\t\t\t\t  \t <p>DESCRIPCIÓN</p>\r\n",
      "\t\t\t\t\t  </th>\r\n",
      "\t\t  \t\t</tr>\r\n",
      "\t\t\t</thead>\r\n",
      "\t\t\t<tbody>\t\t\t\t\t\t\r\n",
      "\t\t\t<tr>\n",
      "<td class='bg2' align='center'>\n",
      "<p class='p1TablaIncidencias'><a onclick =\"window.opener.location ='Buscador?caracter=acontecimiento&amp;Camaras=true&amp;SensoresMeteorologico=true&amp;SensoresTrafico=true&amp;Paneles=true&amp;Radares=true&amp;IncidenciasRETENCION=true&amp;IncidenciasOBRAS=true&amp;IncidenciasMETEOROLOGICA=true&amp;IncidenciasPUERTOS=true&amp;IncidenciasOTROS=true&amp;IncidenciasEVENTOS=true&amp;IncidenciasRESTRICCIONES=true&amp;version=mapa&amp;accion=buscar&amp;inciCodigo=2086009&amp;tipoInci=RETENCIÓN / CONGESTIÓN';window.opener.focus();\"><span class='orange'>16:37</span></a></p>\n",
      "<p class='p2TablaIncidencias'><a onclick =\"window.opener.location ='Buscador?caracter=acontecimiento&amp;Camaras=true&amp;SensoresMeteorologico=true&amp;SensoresTrafico=true&amp;Paneles=true&amp;Radares=true&amp;IncidenciasRETENCION=true&amp;IncidenciasOBRAS=true&amp;IncidenciasMETEOROLOGICA=true&amp;IncidenciasPUERTOS=true&amp;IncidenciasOTROS=true&amp;IncidenciasEVENTOS=true&amp;IncidenciasRESTRICCIONES=true&amp;version=mapa&amp;accion=buscar&amp;inciCodigo=2086009&amp;tipoInci=RETENCIÓN / CONGESTIÓN';window.opener.focus();\">21/02/2019</a></p>\n",
      "</td>\n",
      "<td class='bg2' align='center'>\n",
      "<span class='orange'></span>\n",
      "</td>\n",
      "<td class='bg2' align=\"center\" >\n",
      "<a onclick =\"window.opener.location ='Buscador?caracter=acontecimiento&amp;Camaras=true&amp;SensoresMeteorologico=true&amp;SensoresTrafico=true&amp;Paneles=true&amp;Radares=true&amp;IncidenciasRETENCION=true&amp;IncidenciasOBRAS=true&amp;IncidenciasMETEOROLOGICA=true&amp;IncidenciasPUERTOS=true&amp;IncidenciasOTROS=true&amp;IncidenciasEVENTOS=true&amp;IncidenciasRESTRICCIONES=true&amp;version=mapa&amp;accion=buscar&amp;inciCodigo=2086009&amp;tipoInci=RETENCIÓN / CONGESTIÓN';window.opener.focus();\">\n",
      "<img src='img/iconosIncitar/INC_REN_TCN_LS3_CAC.png' alt='RETENCIÓN / CONGESTIÓN / Nivel Amarillo / 2086009' class='fti' />\n",
      "</a></td>\n",
      "<td class='bg2' align='left'>\n",
      "<p class='p1TablaIncidencias'><a onclick =\"window.opener.location ='Buscador?caracter=acontecimiento&amp;Camaras=true&amp;SensoresMeteorologico=true&amp;SensoresTrafico=true&amp;Paneles=true&amp;Radares=true&amp;IncidenciasRETENCION=true&amp;IncidenciasOBRAS=true&amp;IncidenciasMETEOROLOGICA=true&amp;IncidenciasPUERTOS=true&amp;IncidenciasOTROS=true&amp;IncidenciasEVENTOS=true&amp;IncidenciasRESTRICCIONES=true&amp;version=mapa&amp;accion=buscar&amp;inciCodigo=2086009&amp;tipoInci=RETENCIÓN / CONGESTIÓN';window.opener.focus();\"><b>MADRID</b></a></p>\n",
      "<p class='p2TablaIncidencias'><a onclick =\"window.opener.location ='Buscador?caracter=acontecimiento&amp;Camaras=true&amp;SensoresMeteorologico=true&amp;SensoresTrafico=true&amp;Paneles=true&amp;Radares=true&amp;IncidenciasRETENCION=true&amp;IncidenciasOBRAS=true&amp;IncidenciasMETEOROLOGICA=true&amp;IncidenciasPUERTOS=true&amp;IncidenciasOTROS=true&amp;IncidenciasEVENTOS=true&amp;IncidenciasRESTRICCIONES=true&amp;version=mapa&amp;accion=buscar&amp;inciCodigo=2086009&amp;tipoInci=RETENCIÓN / CONGESTIÓN';window.opener.focus();\">MOSTOLES</a></p>\n",
      "</td>\n",
      "<td class='bg2' align='left'>\n",
      "<a onclick =\"window.opener.location ='Buscador?caracter=acontecimiento&amp;Camaras=true&amp;SensoresMeteorologico=true&amp;SensoresTrafico=true&amp;Paneles=true&amp;Radares=true&amp;IncidenciasRETENCION=true&amp;IncidenciasOBRAS=true&amp;IncidenciasMETEOROLOGICA=true&amp;IncidenciasPUERTOS=true&amp;IncidenciasOTROS=true&amp;IncidenciasEVENTOS=true&amp;IncidenciasRESTRICCIONES=true&amp;version=mapa&amp;accion=buscar&amp;inciCodigo=2086009&amp;tipoInci=RETENCIÓN / CONGESTIÓN';window.opener.focus();\">\n",
      "<b>M-50</b>\n",
      "</a></td>\n",
      "<td align='left' class='nombreIncidencia bg3b'>\n",
      "<a style='width:inherit;' onclick =\"window.opener.location ='Buscador?caracter=acontecimiento&amp;Camaras=true&amp;SensoresMeteorologico=true&amp;SensoresTrafico=true&amp;Paneles=true&amp;Radares=true&amp;IncidenciasRETENCION=true&amp;IncidenciasOBRAS=true&amp;IncidenciasMETEOROLOGICA=true&amp;IncidenciasPUERTOS=true&amp;IncidenciasOTROS=true&amp;IncidenciasEVENTOS=true&amp;IncidenciasRESTRICCIONES=true&amp;version=mapa&amp;accion=buscar&amp;inciCodigo=2086009&amp;tipoInci=RETENCIÓN / CONGESTIÓN';window.opener.focus();\">\n",
      "<span style=\"margin-top:10px; float:left; clear:both\"> <b>RETENCIÓN / CONGESTIÓN</b> por <b>CIRCULACIÓN</b> con circulación irregular  en<b></b>: </span> <span style=\"margin-top:10px; float:left; clear:both\">  - La AUTOPISTA / AUTOVÍA <b> <span style=\"color:#ab3000\">M-50 </span> </b> a la altura de <b>MOSTOLES (MADRID)</b> desde el <b> km 65</b> al <b> km 69</b> sentido <b>DECRECIENTE DE LA KILOMETRACIÓN</b> hacia <b>A-4</b></span><span style=\"margin-top:10px; float:left; clear:both\"> Advertencia: <b>CONDICIONES DIFÍCILES CIRCULACIÓN</b></span>\n",
      "</a></td>\n",
      "</tr>\n",
      "<tr>\n",
      "<td class='bg1' align='center'>\n",
      "<p class='p1TablaIncidencias'><a onclick =\"window.opener.location ='Buscador?caracter=acontecimiento&amp;Camaras=true&amp;SensoresMeteorologico=true&amp;SensoresTrafico=true&amp;Paneles=true&amp;Radares=true&amp;IncidenciasRETENCION=true&amp;IncidenciasOBRAS=true&amp;IncidenciasMETEOROLOGICA=true&amp;IncidenciasPUERTOS=true&amp;IncidenciasOTROS=true&amp;IncidenciasEVENTOS=true&amp;IncidenciasRESTRICCIONES=true&amp;version=mapa&amp;accion=buscar&amp;inciCodigo=2085997&amp;tipoInci=RETENCIÓN / CONGESTIÓN';window.opener.focus();\"><span class='orange'>16:29</span></a></p>\n",
      "<p class='p2TablaIncidencias'><a onclick =\"window.opener.location ='Buscador?caracter=acontecimiento&amp;Camaras=true&amp;SensoresMeteorologico=true&amp;SensoresTrafico=true&amp;Paneles=true&amp;Radares=true&amp;IncidenciasRETENCION=true&amp;IncidenciasOBRAS=true&amp;IncidenciasMETEOROLOGICA=true&amp;IncidenciasPUERTOS=true&amp;IncidenciasOTROS=true&amp;IncidenciasEVENTOS=true&amp;IncidenciasRESTRICCIONES=true&amp;version=mapa&amp;accion=buscar&amp;inciCodigo=2085997&amp;tipoInci=RETENCIÓN / CONGESTIÓN';window.opener.focus();\">21/02/2019</a></p>\n",
      "</td>\n",
      "<td class='bg1' align='center'>\n",
      "<span class='orange'></span>\n",
      "</td>\n",
      "<td class='bg1' align=\"center\" >\n",
      "<a onclick =\"window.opener.location ='Buscador?caracter=acontecimiento&amp;Camaras=true&amp;SensoresMeteorologico=true&amp;SensoresTrafico=true&amp;Paneles=true&amp;Radares=true&amp;IncidenciasRETENCION=true&amp;IncidenciasOBRAS=true&amp;IncidenciasMETEOROLOGICA=true&amp;IncidenciasPUERTOS=true&amp;IncidenciasOTROS=true&amp;IncidenciasEVENTOS=true&amp;IncidenciasRESTRICCIONES=true&amp;version=mapa&amp;accion=buscar&amp;inciCodigo=2085997&amp;tipoInci=RETENCIÓN / CONGESTIÓN';window.opener.focus();\">\n",
      "<img src='img/iconosIncitar/INC_REN_TCN_LS3_CAC.png' alt='RETENCIÓN / CONGESTIÓN / Nivel Amarillo / 2085997' class='fti' />\n",
      "</a></td>\n",
      "<td class='bg1' align='left'>\n",
      "<p class='p1TablaIncidencias'><a onclick =\"window.opener.location ='Buscador?caracter=acontecimiento&amp;Camaras=true&amp;SensoresMeteorologico=true&amp;SensoresTrafico=true&amp;Paneles=true&amp;Radares=true&amp;IncidenciasRETENCION=true&amp;IncidenciasOBRAS=true&amp;IncidenciasMETEOROLOGICA=true&amp;IncidenciasPUERTOS=true&amp;IncidenciasOTROS=true&amp;IncidenciasEVENTOS=true&amp;IncidenciasRESTRICCIONES=true&amp;version=mapa&amp;accion=buscar&amp;inciCodigo=2085997&amp;tipoInci=RETENCIÓN / CONGESTIÓN';window.opener.focus();\"><b>MADRID</b></a></p>\n",
      "<p class='p2TablaIncidencias'><a onclick =\"window.opener.location ='Buscador?caracter=acontecimiento&amp;Camaras=true&amp;SensoresMeteorologico=true&amp;SensoresTrafico=true&amp;Paneles=true&amp;Radares=true&amp;IncidenciasRETENCION=true&amp;IncidenciasOBRAS=true&amp;IncidenciasMETEOROLOGICA=true&amp;IncidenciasPUERTOS=true&amp;IncidenciasOTROS=true&amp;IncidenciasEVENTOS=true&amp;IncidenciasRESTRICCIONES=true&amp;version=mapa&amp;accion=buscar&amp;inciCodigo=2085997&amp;tipoInci=RETENCIÓN / CONGESTIÓN';window.opener.focus();\">RIVAS-VACIAMADRID</a></p>\n",
      "</td>\n",
      "<td class='bg1' align='left'>\n",
      "<a onclick =\"window.opener.location ='Buscador?caracter=acontecimiento&amp;Camaras=true&amp;SensoresMeteorologico=true&amp;SensoresTrafico=true&amp;Paneles=true&amp;Radares=true&amp;IncidenciasRETENCION=true&amp;IncidenciasOBRAS=true&amp;IncidenciasMETEOROLOGICA=true&amp;IncidenciasPUERTOS=true&amp;IncidenciasOTROS=true&amp;IncidenciasEVENTOS=true&amp;IncidenciasRESTRICCIONES=true&amp;version=mapa&amp;accion=buscar&amp;inciCodigo=2085997&amp;tipoInci=RETENCIÓN / CONGESTIÓN';window.opener.focus();\">\n",
      "<b>A-3</b>\n",
      "</a></td>\n",
      "<td align='left' class='nombreIncidencia bg3a'>\n",
      "<a style='width:inherit;' onclick =\"window.opener.location ='Buscador?caracter=acontecimiento&amp;Camaras=true&amp;SensoresMeteorologico=true&amp;SensoresTrafico=true&amp;Paneles=true&amp;Radares=true&amp;IncidenciasRETENCION=true&amp;IncidenciasOBRAS=true&amp;IncidenciasMETEOROLOGICA=true&amp;IncidenciasPUERTOS=true&amp;IncidenciasOTROS=true&amp;IncidenciasEVENTOS=true&amp;IncidenciasRESTRICCIONES=true&amp;version=mapa&amp;accion=buscar&amp;inciCodigo=2085997&amp;tipoInci=RETENCIÓN / CONGESTIÓN';window.opener.focus();\">\n",
      "<span style=\"margin-top:10px; float:left; clear:both\"> <b>RETENCIÓN / CONGESTIÓN</b> por <b>CIRCULACIÓN</b> con circulación irregular  en<b></b>: </span> <span style=\"margin-top:10px; float:left; clear:both\">  - La AUTOPISTA / AUTOVÍA <b> <span style=\"color:#ab3000\">A-3 </span> </b> a la altura de <b>RIVAS-VACIAMADRID (MADRID)</b> desde el <b> km 16</b> al <b> km 14</b> sentido <b>CRECIENTE DE LA KILOMETRACIÓN</b> hacia <b>VALENCIA</b></span><span style=\"margin-top:10px; float:left; clear:both\"> Advertencia: <b>CONDICIONES DIFÍCILES CIRCULACIÓN</b></span>\n",
      "</a></td>\n",
      "</tr>\n",
      "<tr>\n",
      "<td class='bg2' align='center'>\n",
      "<p class='p1TablaIncidencias'><a onclick =\"window.opener.location ='Buscador?caracter=acontecimiento&amp;Camaras=true&amp;SensoresMeteorologico=true&amp;SensoresTrafico=true&amp;Paneles=true&amp;Radares=true&amp;IncidenciasRETENCION=true&amp;IncidenciasOBRAS=true&amp;IncidenciasMETEOROLOGICA=true&amp;IncidenciasPUERTOS=true&amp;IncidenciasOTROS=true&amp;IncidenciasEVENTOS=true&amp;IncidenciasRESTRICCIONES=true&amp;version=mapa&amp;accion=buscar&amp;inciCodigo=2085733&amp;tipoInci=RETENCIÓN / CONGESTIÓN';window.opener.focus();\"><span class='orange'>16:28</span></a></p>\n",
      "<p class='p2TablaIncidencias'><a onclick =\"window.opener.location ='Buscador?caracter=acontecimiento&amp;Camaras=true&amp;SensoresMeteorologico=true&amp;SensoresTrafico=true&amp;Paneles=true&amp;Radares=true&amp;IncidenciasRETENCION=true&amp;IncidenciasOBRAS=true&amp;IncidenciasMETEOROLOGICA=true&amp;IncidenciasPUERTOS=true&amp;IncidenciasOTROS=true&amp;IncidenciasEVENTOS=true&amp;IncidenciasRESTRICCIONES=true&amp;version=mapa&amp;accion=buscar&amp;inciCodigo=2085733&amp;tipoInci=RETENCIÓN / CONGESTIÓN';window.opener.focus();\">21/02/2019</a></p>\n",
      "</td>\n",
      "<td class='bg2' align='center'>\n",
      "<span class='orange'></span>\n",
      "</td>\n",
      "<td class='bg2' align=\"center\" >\n",
      "<a onclick =\"window.opener.location ='Buscador?caracter=acontecimiento&amp;Camaras=true&amp;SensoresMeteorologico=true&amp;SensoresTrafico=true&amp;Paneles=true&amp;Radares=true&amp;IncidenciasRETENCION=true&amp;IncidenciasOBRAS=true&amp;IncidenciasMETEOROLOGICA=true&amp;IncidenciasPUERTOS=true&amp;IncidenciasOTROS=true&amp;IncidenciasEVENTOS=true&amp;IncidenciasRESTRICCIONES=true&amp;version=mapa&amp;accion=buscar&amp;inciCodigo=2085733&amp;tipoInci=RETENCIÓN / CONGESTIÓN';window.opener.focus();\">\n",
      "<img src='img/iconosIncitar/INC_REN_TCN_LS3_CAC.png' alt='RETENCIÓN / CONGESTIÓN / Nivel Amarillo / 2085733' class='fti' />\n",
      "</a></td>\n",
      "<td class='bg2' align='left'>\n",
      "<p class='p1TablaIncidencias'><a onclick =\"window.opener.location ='Buscador?caracter=acontecimiento&amp;Camaras=true&amp;SensoresMeteorologico=true&amp;SensoresTrafico=true&amp;Paneles=true&amp;Radares=true&amp;IncidenciasRETENCION=true&amp;IncidenciasOBRAS=true&amp;IncidenciasMETEOROLOGICA=true&amp;IncidenciasPUERTOS=true&amp;IncidenciasOTROS=true&amp;IncidenciasEVENTOS=true&amp;IncidenciasRESTRICCIONES=true&amp;version=mapa&amp;accion=buscar&amp;inciCodigo=2085733&amp;tipoInci=RETENCIÓN / CONGESTIÓN';window.opener.focus();\"><b>MADRID</b></a></p>\n",
      "<p class='p2TablaIncidencias'><a onclick =\"window.opener.location ='Buscador?caracter=acontecimiento&amp;Camaras=true&amp;SensoresMeteorologico=true&amp;SensoresTrafico=true&amp;Paneles=true&amp;Radares=true&amp;IncidenciasRETENCION=true&amp;IncidenciasOBRAS=true&amp;IncidenciasMETEOROLOGICA=true&amp;IncidenciasPUERTOS=true&amp;IncidenciasOTROS=true&amp;IncidenciasEVENTOS=true&amp;IncidenciasRESTRICCIONES=true&amp;version=mapa&amp;accion=buscar&amp;inciCodigo=2085733&amp;tipoInci=RETENCIÓN / CONGESTIÓN';window.opener.focus();\">MADRID</a></p>\n",
      "</td>\n",
      "<td class='bg2' align='left'>\n",
      "<a onclick =\"window.opener.location ='Buscador?caracter=acontecimiento&amp;Camaras=true&amp;SensoresMeteorologico=true&amp;SensoresTrafico=true&amp;Paneles=true&amp;Radares=true&amp;IncidenciasRETENCION=true&amp;IncidenciasOBRAS=true&amp;IncidenciasMETEOROLOGICA=true&amp;IncidenciasPUERTOS=true&amp;IncidenciasOTROS=true&amp;IncidenciasEVENTOS=true&amp;IncidenciasRESTRICCIONES=true&amp;version=mapa&amp;accion=buscar&amp;inciCodigo=2085733&amp;tipoInci=RETENCIÓN / CONGESTIÓN';window.opener.focus();\">\n",
      "<b>M-40</b>\n",
      "</a></td>\n",
      "<td align='left' class='nombreIncidencia bg3b'>\n",
      "<a style='width:inherit;' onclick =\"window.opener.location ='Buscador?caracter=acontecimiento&amp;Camaras=true&amp;SensoresMeteorologico=true&amp;SensoresTrafico=true&amp;Paneles=true&amp;Radares=true&amp;IncidenciasRETENCION=true&amp;IncidenciasOBRAS=true&amp;IncidenciasMETEOROLOGICA=true&amp;IncidenciasPUERTOS=true&amp;IncidenciasOTROS=true&amp;IncidenciasEVENTOS=true&amp;IncidenciasRESTRICCIONES=true&amp;version=mapa&amp;accion=buscar&amp;inciCodigo=2085733&amp;tipoInci=RETENCIÓN / CONGESTIÓN';window.opener.focus();\">\n",
      "<span style=\"margin-top:10px; float:left; clear:both\"> <b>RETENCIÓN / CONGESTIÓN</b> por <b>CIRCULACIÓN</b> con circulación irregular  en<b></b>: </span> <span style=\"margin-top:10px; float:left; clear:both\">  - La AUTOPISTA / AUTOVÍA <b> <span style=\"color:#ab3000\">M-40 </span> </b> a la altura de <b>MADRID (MADRID)</b> desde el <b> km 12.5</b> al <b> km 10</b> sentido <b>CRECIENTE DE LA KILOMETRACIÓN</b></span>\n",
      "</a></td>\n",
      "</tr>\n",
      "<tr>\n",
      "<td class='bg1' align='center'>\n",
      "<p class='p1TablaIncidencias'><a onclick =\"window.opener.location ='Buscador?caracter=acontecimiento&amp;Camaras=true&amp;SensoresMeteorologico=true&amp;SensoresTrafico=true&amp;Paneles=true&amp;Radares=true&amp;IncidenciasRETENCION=true&amp;IncidenciasOBRAS=true&amp;IncidenciasMETEOROLOGICA=true&amp;IncidenciasPUERTOS=true&amp;IncidenciasOTROS=true&amp;IncidenciasEVENTOS=true&amp;IncidenciasRESTRICCIONES=true&amp;version=mapa&amp;accion=buscar&amp;inciCodigo=1946125&amp;tipoInci=RESTRICCIONES';window.opener.focus();\"><span class='orange'>06:00</span></a></p>\n",
      "<p class='p2TablaIncidencias'><a onclick =\"window.opener.location ='Buscador?caracter=acontecimiento&amp;Camaras=true&amp;SensoresMeteorologico=true&amp;SensoresTrafico=true&amp;Paneles=true&amp;Radares=true&amp;IncidenciasRETENCION=true&amp;IncidenciasOBRAS=true&amp;IncidenciasMETEOROLOGICA=true&amp;IncidenciasPUERTOS=true&amp;IncidenciasOTROS=true&amp;IncidenciasEVENTOS=true&amp;IncidenciasRESTRICCIONES=true&amp;version=mapa&amp;accion=buscar&amp;inciCodigo=1946125&amp;tipoInci=RESTRICCIONES';window.opener.focus();\">21/02/2019</a></p>\n",
      "</td>\n",
      "<td class='bg1' align='center'>\n",
      "<p class='p1TablaIncidencias'><a onclick =\"window.opener.location ='Buscador?caracter=acontecimiento&amp;Camaras=true&amp;SensoresMeteorologico=true&amp;SensoresTrafico=true&amp;Paneles=true&amp;Radares=true&amp;IncidenciasRETENCION=true&amp;IncidenciasOBRAS=true&amp;IncidenciasMETEOROLOGICA=true&amp;IncidenciasPUERTOS=true&amp;IncidenciasOTROS=true&amp;IncidenciasEVENTOS=true&amp;IncidenciasRESTRICCIONES=true&amp;version=mapa&amp;accion=buscar&amp;inciCodigo=1946125&amp;tipoInci=RESTRICCIONES';window.opener.focus();\"><span class='orange'>23:00</span></a></p>\n",
      "<p class='p2TablaIncidencias'><a onclick =\"window.opener.location ='Buscador?caracter=acontecimiento&amp;Camaras=true&amp;SensoresMeteorologico=true&amp;SensoresTrafico=true&amp;Paneles=true&amp;Radares=true&amp;IncidenciasRETENCION=true&amp;IncidenciasOBRAS=true&amp;IncidenciasMETEOROLOGICA=true&amp;IncidenciasPUERTOS=true&amp;IncidenciasOTROS=true&amp;IncidenciasEVENTOS=true&amp;IncidenciasRESTRICCIONES=true&amp;version=mapa&amp;accion=buscar&amp;inciCodigo=1946125&amp;tipoInci=RESTRICCIONES';window.opener.focus();\">21/02/2019</a></p>\n",
      "</td>\n",
      "<td class='bg1' align=\"center\" >\n",
      "<a onclick =\"window.opener.location ='Buscador?caracter=acontecimiento&amp;Camaras=true&amp;SensoresMeteorologico=true&amp;SensoresTrafico=true&amp;Paneles=true&amp;Radares=true&amp;IncidenciasRETENCION=true&amp;IncidenciasOBRAS=true&amp;IncidenciasMETEOROLOGICA=true&amp;IncidenciasPUERTOS=true&amp;IncidenciasOTROS=true&amp;IncidenciasEVENTOS=true&amp;IncidenciasRESTRICCIONES=true&amp;version=mapa&amp;accion=buscar&amp;inciCodigo=1946125&amp;tipoInci=RESTRICCIONES';window.opener.focus();\">\n",
      "<img src='img/iconosIncitar/MED_RES_RME_NAP_CAC.png' alt='RESTRICCIONES / Nivel Gris / 1946125' class='fti' />\n",
      "</a></td>\n",
      "<td class='bg1' align='left'>\n",
      "<p class='p1TablaIncidencias'><a onclick =\"window.opener.location ='Buscador?caracter=acontecimiento&amp;Camaras=true&amp;SensoresMeteorologico=true&amp;SensoresTrafico=true&amp;Paneles=true&amp;Radares=true&amp;IncidenciasRETENCION=true&amp;IncidenciasOBRAS=true&amp;IncidenciasMETEOROLOGICA=true&amp;IncidenciasPUERTOS=true&amp;IncidenciasOTROS=true&amp;IncidenciasEVENTOS=true&amp;IncidenciasRESTRICCIONES=true&amp;version=mapa&amp;accion=buscar&amp;inciCodigo=1946125&amp;tipoInci=RESTRICCIONES';window.opener.focus();\"><b>MADRID</b></a></p>\n",
      "<p class='p2TablaIncidencias'><a onclick =\"window.opener.location ='Buscador?caracter=acontecimiento&amp;Camaras=true&amp;SensoresMeteorologico=true&amp;SensoresTrafico=true&amp;Paneles=true&amp;Radares=true&amp;IncidenciasRETENCION=true&amp;IncidenciasOBRAS=true&amp;IncidenciasMETEOROLOGICA=true&amp;IncidenciasPUERTOS=true&amp;IncidenciasOTROS=true&amp;IncidenciasEVENTOS=true&amp;IncidenciasRESTRICCIONES=true&amp;version=mapa&amp;accion=buscar&amp;inciCodigo=1946125&amp;tipoInci=RESTRICCIONES';window.opener.focus();\">MADRID</a></p>\n",
      "</td>\n",
      "<td class='bg1' align='left'>\n",
      "<a onclick =\"window.opener.location ='Buscador?caracter=acontecimiento&amp;Camaras=true&amp;SensoresMeteorologico=true&amp;SensoresTrafico=true&amp;Paneles=true&amp;Radares=true&amp;IncidenciasRETENCION=true&amp;IncidenciasOBRAS=true&amp;IncidenciasMETEOROLOGICA=true&amp;IncidenciasPUERTOS=true&amp;IncidenciasOTROS=true&amp;IncidenciasEVENTOS=true&amp;IncidenciasRESTRICCIONES=true&amp;version=mapa&amp;accion=buscar&amp;inciCodigo=1946125&amp;tipoInci=RESTRICCIONES';window.opener.focus();\">\n",
      "<b>M-111</b>\n",
      "</a></td>\n",
      "<td align='left' class='nombreIncidencia bg3a'>\n",
      "<a style='width:inherit;' onclick =\"window.opener.location ='Buscador?caracter=acontecimiento&amp;Camaras=true&amp;SensoresMeteorologico=true&amp;SensoresTrafico=true&amp;Paneles=true&amp;Radares=true&amp;IncidenciasRETENCION=true&amp;IncidenciasOBRAS=true&amp;IncidenciasMETEOROLOGICA=true&amp;IncidenciasPUERTOS=true&amp;IncidenciasOTROS=true&amp;IncidenciasEVENTOS=true&amp;IncidenciasRESTRICCIONES=true&amp;version=mapa&amp;accion=buscar&amp;inciCodigo=1946125&amp;tipoInci=RESTRICCIONES';window.opener.focus();\">\n",
      "<span style=\"margin-top:10px; float:left; clear:both\"> <b>RESTRICCIONES A MERCANCÍAS PELIGROSAS</b> por <b>CIRCULACIÓN</b> en<b> Túnel Barajas</b>: </span> <span style=\"margin-top:10px; float:left; clear:both\">  -  La carretera  <b> <span style=\"color:#ab3000\">M-111 </span> </b> a la altura de <b>MADRID (MADRID)</b> desde el <b> km 1.1</b> al <b> km 5</b> sentido <b>AMBOS SENTIDOS</b></span>\n",
      "</a></td>\n",
      "</tr>\n",
      "\r\n",
      "\t\t\t\t\r\n",
      "\t\t\t</tbody>\r\n",
      "\t\t</table>\r\n",
      "\t\t<div>\r\n",
      "        \t<ul>\r\n",
      "        \t\t<li >\r\n",
      "\t\t\t\t<!-- Este campo es oculto y se utliza para que cuando se pulse el bot�n consultar, recoja este par�mtero y lo pase al servlet tambien\r\n",
      "\t\t\t\t  de este modo se puede consultar desde el servlet el valor de la ordenaci�n, ya que la petici�n se construye automaticamente a trav�s de submit\r\n",
      "\t\t\t\t del formulario-->\r\n",
      "\t\t\t\t\t<input type=\"hidden\" name=\"ordenacion\" value=\"fechahora_ini-DESC\"/>\r\n",
      "\t\t\t\t</li>\r\n",
      "\t\t\t</ul>\r\n",
      "\t\t</div>\t\t\r\n",
      "\t\t</form>\r\n",
      "\t\t<div id=\"leyendas\">\r\n",
      "\t\t\t<p class=\"ftl\">\r\n",
      "\t\t\t\t<span class=\"titulo ftl\">NIVELES DE CIRCULACIÓN:</span>\r\n",
      "\t\t\t\t<span class=\"ftl\"><img src=\"img/ICONenTABLAS/NIVtablNEGR.gif\" alt=\"\" title=\"Nivel Negro\" />Interrumpida</span>\r\n",
      "\t\t\t\t<span class=\"ftl\"><img src=\"img/ICONenTABLAS/NIVtablROJ.gif\" alt=\"\" title=\"Nivel Rojo\" />Difícil</span>\r\n",
      "\t\t\t\t<span class=\"ftl\"><img src=\"img/ICONenTABLAS/NIVtablAMA.gif\" alt=\"\" title=\"Nivel Amarillo\" />Irregular</span>\r\n",
      "\t\t\t\t<span class=\"ftl last\"><img src=\"img/ICONenTABLAS/NIVtablVERD.gif\" alt=\"\" title=\"Nivel Verde\" />Condicionada</span>\r\n",
      "\t\t\t</p>\r\n",
      "\t\t\t<p class=\"ftr\">\r\n",
      "\t\t\t\t<a href=\"jsp/leyendas.jsp\" onclick=\"window.open(this.href, 'Leyenda de iconos', 'width=650, height=450, scrollbars=1').focus(); return false;\">\r\n",
      "\t\t\t\t\tVer otras leyendas\r\n",
      "\t\t\t\t</a>\t\t\t\t\r\n",
      "\t\t\t</p>\r\n",
      "\t\t</div>\r\n",
      "\t\t\r\n",
      "\t\t<p id=\"copyright\"></p>\r\n",
      "\t\t<p id=\"GarryWasHere\"></p>\r\n",
      "\t</body>\r\n",
      "</html>\r\n",
      "\n",
      "hola\n"
     ]
    }
   ],
   "source": [
    "import urllib.request as ur\n",
    "import re \n",
    "\n",
    "f = ur.urlopen('http://infocar.dgt.es/etraffic/Incidencias?ca=13&provIci=&caracter=acontecimiento&accion_consultar=Consultar&IncidenciasRETENCION=IncidenciasRETENCION&IncidenciasPUERTOS=IncidenciasPUERTOS&IncidenciasMETEOROLOGICA=IncidenciasMETEOROLOGICA&IncidenciasEVENTOS=IncidenciasEVENTOS&IncidenciasOTROS=IncidenciasOTROS&IncidenciasRESTRICCIONES=IncidenciasRESTRICCIONES&ordenacion=fechahora_ini-DESC')\n",
    "s = f.read().decode()\n",
    "f.close()\n",
    "\n",
    "print(s)\n",
    "print(\"hola\")\n"
   ]
  },
  {
   "cell_type": "code",
   "execution_count": 16,
   "metadata": {},
   "outputs": [
    {
     "name": "stdout",
     "output_type": "stream",
     "text": [
      "[]\n"
     ]
    }
   ],
   "source": [
    "matches = re.findall(\"<tr>.*?class='orange'>(\\d\\d:\\d\\d).*?(\\d\\d/\\d\\d/\\d\\d\\d\\d).*?<b>M-40</b>.*?clear:both\\\">(.*?)</a>.*?</tr>\", s, re.DOTALL)\n",
    "print(matches)\n"
   ]
  },
  {
   "cell_type": "code",
   "execution_count": 17,
   "metadata": {},
   "outputs": [
    {
     "name": "stdout",
     "output_type": "stream",
     "text": [
      "[('06:00', '20/02/2019', '23:00', '20/02/2019')]\n"
     ]
    }
   ],
   "source": [
    "matches = re.findall(\"<tr>.*?class='orange'>(\\d\\d:\\d\\d).*?(\\d\\d/\\d\\d/\\d\\d\\d\\d).*?<td class='bg.*?class='orange'>(\\d\\d:\\d\\d).*?(\\d\\d/\\d\\d/\\d\\d\\d\\d).*?\", s, re.DOTALL)\n",
    "print(matches)\n"
   ]
  },
  {
   "cell_type": "code",
   "execution_count": 18,
   "metadata": {},
   "outputs": [
    {
     "data": {
      "text/plain": [
       "'<tr>.*?class=\\'orange\\'>(\\\\d\\\\d:\\\\d\\\\d).*?(\\\\d\\\\d/\\\\d\\\\d/\\\\d\\\\d).*?<b>M-40</b>.*?clear:both\">(.*?)</a>.*?</tr>'"
      ]
     },
     "execution_count": 18,
     "metadata": {},
     "output_type": "execute_result"
    }
   ],
   "source": [
    "\"<tr>.*?class='orange'>(\\d\\d:\\d\\d).*?(\\d\\d/\\d\\d/\\d\\d).*?<b>M-40</b>.*?clear:both\\\">(.*?)</a>.*?</tr>\""
   ]
  },
  {
   "cell_type": "code",
   "execution_count": null,
   "metadata": {},
   "outputs": [],
   "source": [
    "<tr>.*?class='bg .*?class='orange'>(\\d\\d:\\d\\d).*?(\\d\\d/\\d\\d/\\d\\d\\d\\d).*?<td class='bg.*?class='orange'></span>\n",
    "</td>\n",
    "\n",
    "\n",
    "<td class='bg2' align=\"center\" >\n",
    "<a onclick =\"window.opener.location ='Buscador?caracter=acontecimiento&amp;Camaras=true&amp;SensoresMeteorologico=true&amp;SensoresTrafico=true&amp;Paneles=true&amp;Radares=true&amp;IncidenciasRETENCION=true&amp;IncidenciasOBRAS=true&amp;IncidenciasMETEOROLOGICA=true&amp;IncidenciasPUERTOS=true&amp;IncidenciasOTROS=true&amp;IncidenciasEVENTOS=true&amp;IncidenciasRESTRICCIONES=true&amp;version=mapa&amp;accion=buscar&amp;inciCodigo=2080544&amp;tipoInci=RETENCIÓN / CONGESTIÓN';window.opener.focus();\">\n",
    "<img src='img/iconosIncitar/INC_REN_TCN_LS3_CAC.png' alt='RETENCIÓN / CONGESTIÓN / Nivel Amarillo / 2080544' class='fti' />\n",
    "</a></td>\n",
    "\n",
    "<td class='bg2' align='left'>\n",
    "<p class='p1TablaIncidencias'><a onclick =\"window.opener.location ='Buscador?caracter=acontecimiento&amp;Camaras=true&amp;SensoresMeteorologico=true&amp;SensoresTrafico=true&amp;Paneles=true&amp;Radares=true&amp;IncidenciasRETENCION=true&amp;IncidenciasOBRAS=true&amp;IncidenciasMETEOROLOGICA=true&amp;IncidenciasPUERTOS=true&amp;IncidenciasOTROS=true&amp;IncidenciasEVENTOS=true&amp;IncidenciasRESTRICCIONES=true&amp;version=mapa&amp;accion=buscar&amp;inciCodigo=2080544&amp;tipoInci=RETENCIÓN / CONGESTIÓN';window.opener.focus();\"><b>MADRID</b></a></p>\n",
    "<p class='p2TablaIncidencias'><a onclick =\"window.opener.location ='Buscador?caracter=acontecimiento&amp;Camaras=true&amp;SensoresMeteorologico=true&amp;SensoresTrafico=true&amp;Paneles=true&amp;Radares=true&amp;IncidenciasRETENCION=true&amp;IncidenciasOBRAS=true&amp;IncidenciasMETEOROLOGICA=true&amp;IncidenciasPUERTOS=true&amp;IncidenciasOTROS=true&amp;IncidenciasEVENTOS=true&amp;IncidenciasRESTRICCIONES=true&amp;version=mapa&amp;accion=buscar&amp;inciCodigo=2080544&amp;tipoInci=RETENCIÓN / CONGESTIÓN';window.opener.focus();\">MADRID</a></p>\n",
    "</td>\n",
    "\n",
    "<td class='bg2' align='left'>\n",
    "<a onclick =\"window.opener.location ='Buscador?caracter=acontecimiento&amp;Camaras=true&amp;SensoresMeteorologico=true&amp;SensoresTrafico=true&amp;Paneles=true&amp;Radares=true&amp;IncidenciasRETENCION=true&amp;IncidenciasOBRAS=true&amp;IncidenciasMETEOROLOGICA=true&amp;IncidenciasPUERTOS=true&amp;IncidenciasOTROS=true&amp;IncidenciasEVENTOS=true&amp;IncidenciasRESTRICCIONES=true&amp;version=mapa&amp;accion=buscar&amp;inciCodigo=2080544&amp;tipoInci=RETENCIÓN / CONGESTIÓN';window.opener.focus();\">\n",
    "<b>M-14</b>\n",
    "</a></td>\n",
    "\n",
    "<td align='left' class='nombreIncidencia bg3b'>\n",
    "<a style='width:inherit;' onclick =\"window.opener.location ='Buscador?caracter=acontecimiento&amp;Camaras=true&amp;SensoresMeteorologico=true&amp;SensoresTrafico=true&amp;Paneles=true&amp;Radares=true&amp;IncidenciasRETENCION=true&amp;IncidenciasOBRAS=true&amp;IncidenciasMETEOROLOGICA=true&amp;IncidenciasPUERTOS=true&amp;IncidenciasOTROS=true&amp;IncidenciasEVENTOS=true&amp;IncidenciasRESTRICCIONES=true&amp;version=mapa&amp;accion=buscar&amp;inciCodigo=2080544&amp;tipoInci=RETENCIÓN / CONGESTIÓN';window.opener.focus();\">\n",
    "<span style=\"margin-top:10px; float:left; clear:both\"> <b>RETENCIÓN / CONGESTIÓN</b> por <b>ACCIDENTE</b> y <b>CIRCULACIÓN</b> con circulación irregular  en<b></b>: </span> <span style=\"margin-top:10px; float:left; clear:both\">  - La AUTOPISTA / AUTOVÍA <b> <span style=\"color:#ab3000\">M-14 </span> </b> a la altura de <b>MADRID (MADRID)</b> desde el <b> km 0</b> al <b> km 2</b> sentido <b>DECRECIENTE DE LA KILOMETRACIÓN</b> hacia <b>M-40</b></span><span style=\"margin-top:10px; float:left; clear:both\"> Advertencia: <b>CONDICIONES DIFÍCILES CIRCULACIÓN</b></span>\n",
    "</a></td>\n",
    "\n",
    "</tr>"
   ]
  },
  {
   "cell_type": "code",
   "execution_count": 61,
   "metadata": {},
   "outputs": [
    {
     "name": "stdout",
     "output_type": "stream",
     "text": [
      "[('06:00', '20/02/2019', '23:00', '')]\n"
     ]
    }
   ],
   "source": [
    "variable = \"<tr><td class='bg2' align='center'><p class='p1TablaIncidencias'><a onclick =\\\"window.opener.location ='Buscador?caracter=acontecimiento&amp;Camaras=true&amp;SensoresMeteorologico=true&amp;SensoresTrafico=true&amp;Paneles=true&amp;Radares=true&amp;IncidenciasRETENCION=true&amp;IncidenciasOBRAS=true&amp;IncidenciasMETEOROLOGICA=true&amp;IncidenciasPUERTOS=true&amp;IncidenciasOTROS=true&amp;IncidenciasEVENTOS=true&amp;IncidenciasRESTRICCIONES=true&amp;version=mapa&amp;accion=buscar&amp;inciCodigo=1946122&amp;tipoInci=RESTRICCIONES';window.opener.focus();\\\"><span class='orange'>06:00</span></a></p>\"\n",
    "variable = variable + \"<p class='p2TablaIncidencias'><a onclick =\\\"window.opener.location ='Buscador?caracter=acontecimiento&amp;Camaras=true&amp;SensoresMeteorologico=true&amp;SensoresTrafico=true&amp;Paneles=true&amp;Radares=true&amp;IncidenciasRETENCION=true&amp;IncidenciasOBRAS=true&amp;IncidenciasMETEOROLOGICA=true&amp;IncidenciasPUERTOS=true&amp;IncidenciasOTROS=true&amp;IncidenciasEVENTOS=true&amp;IncidenciasRESTRICCIONES=true&amp;version=mapa&amp;accion=buscar&amp;inciCodigo=1946122&amp;tipoInci=RESTRICCIONES';window.opener.focus();\\\">18/02/2019</a></p>\"\n",
    "variable = variable + \"</td>\"\n",
    "variable = variable + \"<td class='bg2' align='center'>\"\n",
    "variable = variable +\"<p class='p1TablaIncidencias'><a onclick =\\\"window.opener.location ='Buscador?caracter=acontecimiento&amp;Camaras=true&amp;SensoresMeteorologico=true&amp;SensoresTrafico=true&amp;Paneles=true&amp;Radares=true&amp;IncidenciasRETENCION=true&amp;IncidenciasOBRAS=true&amp;IncidenciasMETEOROLOGICA=true&amp;IncidenciasPUERTOS=true&amp;IncidenciasOTROS=true&amp;IncidenciasEVENTOS=true&amp;IncidenciasRESTRICCIONES=true&amp;version=mapa&amp;accion=buscar&amp;inciCodigo=1946122&amp;tipoInci=RESTRICCIONES';window.opener.focus();\\\"><span class='orange'></span></a></p>\"\n",
    "variable = variable + \"<p class='p2TablaIncidencias'><a onclick =\\\"window.opener.location ='Buscador?caracter=acontecimiento&amp;Camaras=true&amp;SensoresMeteorologico=true&amp;SensoresTrafico=true&amp;Paneles=true&amp;Radares=true&amp;IncidenciasRETENCION=true&amp;IncidenciasOBRAS=true&amp;IncidenciasMETEOROLOGICA=true&amp;IncidenciasPUERTOS=true&amp;IncidenciasOTROS=true&amp;IncidenciasEVENTOS=true&amp;IncidenciasRESTRICCIONES=true&amp;version=mapa&amp;accion=buscar&amp;inciCodigo=1946122&amp;tipoInci=RESTRICCIONES';window.opener.focus();\\\"></a></p>\"\n",
    "variable = variable + \"</td>\"\n",
    "variable = variable +\"<td class='bg2' align=\\\"center\\\" >\"\n",
    "variable = variable + \"<a onclick =\\\"window.opener.location ='Buscador?caracter=acontecimiento&amp;Camaras=true&amp;SensoresMeteorologico=true&amp;SensoresTrafico=true&amp;Paneles=true&amp;Radares=true&amp;IncidenciasRETENCION=true&amp;IncidenciasOBRAS=true&amp;IncidenciasMETEOROLOGICA=true&amp;IncidenciasPUERTOS=true&amp;IncidenciasOTROS=true&amp;IncidenciasEVENTOS=true&amp;IncidenciasRESTRICCIONES=true&amp;version=mapa&amp;accion=buscar&amp;inciCodigo=1946122&amp;tipoInci=RESTRICCIONES';window.opener.focus();\\\">\"\n",
    "variable = variable + \"<img src='img/iconosIncitar/MED_RES_RME_NAP_CAC.png' alt='RESTRICCIONES / Nivel Gris / 1946122' class='fti' />\"\n",
    "variable = variable + \"</a></td>\"\n",
    "variable = variable + \"<td class='bg2' align='left'>\"\n",
    "variable = variable + \"<p class='p1TablaIncidencias'><a onclick =\\\"window.opener.location ='Buscador?caracter=acontecimiento&amp;Camaras=true&amp;SensoresMeteorologico=true&amp;SensoresTrafico=true&amp;Paneles=true&amp;Radares=true&amp;IncidenciasRETENCION=true&amp;IncidenciasOBRAS=true&amp;IncidenciasMETEOROLOGICA=true&amp;IncidenciasPUERTOS=true&amp;IncidenciasOTROS=true&amp;IncidenciasEVENTOS=true&amp;IncidenciasRESTRICCIONES=true&amp;version=mapa&amp;accion=buscar&amp;inciCodigo=1946122&amp;tipoInci=RESTRICCIONES';window.opener.focus();\\\"><b>MADRID</b></a></p>\"\n",
    "variable = variable + \"<p class='p2TablaIncidencias'><a onclick =\\\"window.opener.location ='Buscador?caracter=acontecimiento&amp;Camaras=true&amp;SensoresMeteorologico=true&amp;SensoresTrafico=true&amp;Paneles=true&amp;Radares=true&amp;IncidenciasRETENCION=true&amp;IncidenciasOBRAS=true&amp;IncidenciasMETEOROLOGICA=true&amp;IncidenciasPUERTOS=true&amp;IncidenciasOTROS=true&amp;IncidenciasEVENTOS=true&amp;IncidenciasRESTRICCIONES=true&amp;version=mapa&amp;accion=buscar&amp;inciCodigo=1946122&amp;tipoInci=RESTRICCIONES';window.opener.focus();\\\">MADRID</a></p>\"\n",
    "variable = variable + \"</td>\"\n",
    "variable = variable + \"<td class='bg2' align='left'>\"\n",
    "variable = variable + \"<a onclick =\\\"window.opener.location ='Buscador?caracter=acontecimiento&amp;Camaras=true&amp;SensoresMeteorologico=true&amp;SensoresTrafico=true&amp;Paneles=true&amp;Radares=true&amp;IncidenciasRETENCION=true&amp;IncidenciasOBRAS=true&amp;IncidenciasMETEOROLOGICA=true&amp;IncidenciasPUERTOS=true&amp;IncidenciasOTROS=true&amp;IncidenciasEVENTOS=true&amp;IncidenciasRESTRICCIONES=true&amp;version=mapa&amp;accion=buscar&amp;inciCodigo=1946122&amp;tipoInci=RESTRICCIONES';window.opener.focus();\\\">\"\n",
    "variable = variable + \"<b>M-111</b>\"\n",
    "variable = variable + \"</a></td>\"\n",
    "variable = variable + \"<td align='left' class='nombreIncidencia bg3b'>\"\n",
    "variable = variable + \"<a style='width:inherit;' onclick =\\\"window.opener.location ='Buscador?caracter=acontecimiento&amp;Camaras=true&amp;SensoresMeteorologico=true&amp;SensoresTrafico=true&amp;Paneles=true&amp;Radares=true&amp;IncidenciasRETENCION=true&amp;IncidenciasOBRAS=true&amp;IncidenciasMETEOROLOGICA=true&amp;IncidenciasPUERTOS=true&amp;IncidenciasOTROS=true&amp;IncidenciasEVENTOS=true&amp;IncidenciasRESTRICCIONES=true&amp;version=mapa&amp;accion=buscar&amp;inciCodigo=1946122&amp;tipoInci=RESTRICCIONES';window.opener.focus();\\\">\"\n",
    "variable = variable + \"<span style=\\\"margin-top:10px; float:left; clear:both\\\"> <b>RESTRICCIONES A MERCANCÍAS PELIGROSAS</b> por <b>CIRCULACIÓN</b> en<b> Túnel Barajas</b>: </span> <span style=\\\"margin-top:10px; float:left; clear:both\\\">  -  La carretera  <b> <span style=\\\"color:#ab3000\\\">M-111 </span> </b> a la altura de <b>MADRID (MADRID)</b> desde el <b> km 1.1</b> al <b> km 5</b> sentido <b>AMBOS SENTIDOS</b></span>\"\n",
    "variable = variable + \"</a></td>\"\n",
    "variable = variable + \"</tr>\"\n",
    "\n",
    "\n",
    "#matches = re.findall(\"<tr>.*?class='orange'>(\\d\\d:\\d\\d).*?(\\d\\d/\\d\\d/\\d\\d\\d\\d).*?<td class='bg.*?class='orange'>(\\d\\d:\\d\\d)*.*?(\\d\\d/\\d\\d/\\d\\d\\d\\d)?.*?\", variable, re.DOTALL)\n",
    "#print(matches)\n",
    "\n",
    "matches = re.findall(\"<tr>.*?class='orange'>(\\d\\d:\\d\\d).*?(\\d\\d/\\d\\d/\\d\\d\\d\\d).*?<td class='bg.*?class='orange'>(\\d\\d:\\d\\d)?.*?(\\d\\d/\\d\\d/\\d\\d\\d\\d)?.*?\", s, re.DOTALL)\n",
    "print(matches)\n",
    "\n",
    "matches = re.findall(\"<tr>.*?class='orange'>(\\d\\d:\\d\\d).*?(\\d\\d/\\d\\d/\\d\\d\\d\\d).*?<td class='bg.*?class='orange'>(\\d\\d:\\d\\d)?.*?(\\d\\d/\\d\\d/\\d\\d\\d\\d)?.*?\", s, re.DOTALL)\n",
    "\n",
    "\n"
   ]
  },
  {
   "cell_type": "code",
   "execution_count": 20,
   "metadata": {},
   "outputs": [
    {
     "name": "stdout",
     "output_type": "stream",
     "text": [
      " align='left' class='nombreIncidencia bg3b'>\n",
      "<a style='width:inherit;' onclick =\"window.opener.location ='Buscador?caracter=acontecimiento&amp;Camaras=true&amp;SensoresMeteorologico=true&amp;SensoresTrafico=true&amp;Paneles=true&amp;Radares=true&amp;IncidenciasRETENCION=true&amp;IncidenciasOBRAS=true&amp;IncidenciasMETEOROLOGICA=true&amp;IncidenciasPUERTOS=true&amp;IncidenciasOTROS=true&amp;IncidenciasEVENTOS=true&amp;IncidenciasRESTRICCIONES=true&amp;version=mapa&amp;accion=buscar&amp;inciCodigo=1946124&amp;tipoInci=RESTRICCIONES';window.opener.focus();\">\n",
      "<span style=\"margin-top:10px; float:left; clear:both\"> <b>RESTRICCIONES A MERCANCÍAS PELIGROSAS</b> por <b>CIRCULACIÓN</b> en<b> Túnel Barajas</b>: </span> <span style=\"margin-top:10px; float:left; clear:both\">  -  La carretera  <b> <span style=\"color:#ab3000\">M-111 </span> </b> a la altura de <b>MADRID (MADRID)</b> desde el <b> km 1.1</b> al <b> km 5</b> sentido <b>AMBOS SENTIDOS</b></span>\n",
      "</a>\n"
     ]
    }
   ],
   "source": [
    "matches = re.findall(\".*?<td(.*?)</td>.*?<td(.*?)</td>.*?<td(.*?)</td>.*?<td(.*?)</td>.*?<td(.*?)</td>.*?<td(.*?)</td>.*?\",s, re.DOTALL)\n",
    "print(matches[0][5])"
   ]
  },
  {
   "cell_type": "code",
   "execution_count": 21,
   "metadata": {},
   "outputs": [
    {
     "name": "stdout",
     "output_type": "stream",
     "text": [
      "[('06:00', '20/02/2019')]\n"
     ]
    }
   ],
   "source": [
    "matches00 = re.findall(\"class='orange'>(\\d\\d:\\d\\d).*?(\\d\\d/\\d\\d/\\d\\d\\d\\d).*?\",matches[0][0],re.DOTALL)\n",
    "print(matches00)"
   ]
  },
  {
   "cell_type": "code",
   "execution_count": 22,
   "metadata": {},
   "outputs": [
    {
     "name": "stdout",
     "output_type": "stream",
     "text": [
      "[('23:00', '20/02/2019')]\n"
     ]
    }
   ],
   "source": [
    "matches01 = re.findall(\"class='orange'>(\\d\\d:\\d\\d).*?(\\d\\d/\\d\\d/\\d\\d\\d\\d).*?\",matches[0][1],re.DOTALL)\n",
    "print(matches01)"
   ]
  },
  {
   "cell_type": "code",
   "execution_count": 33,
   "metadata": {},
   "outputs": [],
   "source": [
    "# matches 02 no nos interesa ya que es una clasificación extra"
   ]
  },
  {
   "cell_type": "code",
   "execution_count": 35,
   "metadata": {},
   "outputs": [],
   "source": [
    "# matches 03 no nos interesa ya que indica que es en madrid"
   ]
  },
  {
   "cell_type": "code",
   "execution_count": 23,
   "metadata": {},
   "outputs": [
    {
     "name": "stdout",
     "output_type": "stream",
     "text": [
      "['M-111']\n"
     ]
    }
   ],
   "source": [
    "matches04 = re.findall(\"<b>(.*?)</b>\",matches[0][4],re.DOTALL)\n",
    "print(matches04)"
   ]
  },
  {
   "cell_type": "code",
   "execution_count": 29,
   "metadata": {},
   "outputs": [
    {
     "name": "stdout",
     "output_type": "stream",
     "text": [
      "[' <b>RESTRICCIONES A MERCANCÍAS PELIGROSAS</b> por <b>CIRCULACIÓN</b> en<b> Túnel Barajas</b>: </span> <span style=\"margin-top:10px; float:left; clear:both\">  -  La carretera  <b> <span style=\"color:#ab3000\">M-111 </span> </b> a la altura de <b>MADRID (MADRID)</b> desde el <b> km 1.1</b> al <b> km 5</b> sentido <b>AMBOS SENTIDOS']\n"
     ]
    }
   ],
   "source": [
    "matches05 = re.findall(\"clear:both\\\">(.*?)</b></span>\",matches[0][5],re.DOTALL)\n",
    "print(matches05)"
   ]
  },
  {
   "cell_type": "code",
   "execution_count": 8,
   "metadata": {},
   "outputs": [],
   "source": [
    "def cleanhtml(raw_html):\n",
    "    cleanr = re.compile('<.*?>')\n",
    "    cleantext = re.sub(cleanr,'',raw_html)\n",
    "    return cleantext"
   ]
  },
  {
   "cell_type": "code",
   "execution_count": 43,
   "metadata": {},
   "outputs": [
    {
     "name": "stdout",
     "output_type": "stream",
     "text": [
      " RESTRICCIONES A MERCANCÍAS PELIGROSAS por CIRCULACIÓN en Túnel Barajas:    -  La carretera   M-111   a la altura de MADRID (MADRID) desde el  km 1.1 al  km 5 sentido AMBOS SENTIDOS\n"
     ]
    }
   ],
   "source": [
    "x = cleanhtml(matches05[0])\n",
    "print(x)"
   ]
  },
  {
   "cell_type": "code",
   "execution_count": 110,
   "metadata": {},
   "outputs": [
    {
     "ename": "KeyboardInterrupt",
     "evalue": "",
     "output_type": "error",
     "traceback": [
      "\u001b[0;31m---------------------------------------------------------------------------\u001b[0m",
      "\u001b[0;31mKeyboardInterrupt\u001b[0m                         Traceback (most recent call last)",
      "\u001b[0;32m<ipython-input-110-35e609345886>\u001b[0m in \u001b[0;36m<module>\u001b[0;34m\u001b[0m\n\u001b[1;32m      1\u001b[0m \u001b[0;32mfrom\u001b[0m \u001b[0mpprint\u001b[0m \u001b[0;32mimport\u001b[0m \u001b[0mpprint\u001b[0m\u001b[0;34m\u001b[0m\u001b[0m\n\u001b[1;32m      2\u001b[0m \u001b[0;34m\u001b[0m\u001b[0m\n\u001b[0;32m----> 3\u001b[0;31m \u001b[0mconjunto\u001b[0m \u001b[0;34m=\u001b[0m \u001b[0mre\u001b[0m\u001b[0;34m.\u001b[0m\u001b[0mfindall\u001b[0m\u001b[0;34m(\u001b[0m\u001b[0;34m\"<tr.*?<td.*?class='orange'>(\\d\\d:\\d\\d).*?(\\d\\d/\\d\\d/\\d\\d\\d\\d).*?<td.*?(\\d\\d:\\d\\d)?.*?(\\d\\d/\\d\\d/\\d\\d\\d\\d)?.*?<td.*?<td.*?<td.*?<b>(M-40)</b>.*?<td.*?<span.*?<b>(.*?)</b></span>.*?</td>.*?\"\u001b[0m\u001b[0;34m,\u001b[0m\u001b[0ms\u001b[0m\u001b[0;34m,\u001b[0m\u001b[0mre\u001b[0m\u001b[0;34m.\u001b[0m\u001b[0mDOTALL\u001b[0m\u001b[0;34m)\u001b[0m\u001b[0;34m\u001b[0m\u001b[0m\n\u001b[0m\u001b[1;32m      4\u001b[0m \u001b[0mpprint\u001b[0m\u001b[0;34m(\u001b[0m\u001b[0mconjunto\u001b[0m\u001b[0;34m)\u001b[0m\u001b[0;34m\u001b[0m\u001b[0m\n\u001b[1;32m      5\u001b[0m \u001b[0;34m\u001b[0m\u001b[0m\n",
      "\u001b[0;32m/Library/Frameworks/Python.framework/Versions/3.5/lib/python3.5/re.py\u001b[0m in \u001b[0;36mfindall\u001b[0;34m(pattern, string, flags)\u001b[0m\n\u001b[1;32m    211\u001b[0m \u001b[0;34m\u001b[0m\u001b[0m\n\u001b[1;32m    212\u001b[0m     Empty matches are included in the result.\"\"\"\n\u001b[0;32m--> 213\u001b[0;31m     \u001b[0;32mreturn\u001b[0m \u001b[0m_compile\u001b[0m\u001b[0;34m(\u001b[0m\u001b[0mpattern\u001b[0m\u001b[0;34m,\u001b[0m \u001b[0mflags\u001b[0m\u001b[0;34m)\u001b[0m\u001b[0;34m.\u001b[0m\u001b[0mfindall\u001b[0m\u001b[0;34m(\u001b[0m\u001b[0mstring\u001b[0m\u001b[0;34m)\u001b[0m\u001b[0;34m\u001b[0m\u001b[0m\n\u001b[0m\u001b[1;32m    214\u001b[0m \u001b[0;34m\u001b[0m\u001b[0m\n\u001b[1;32m    215\u001b[0m \u001b[0;32mdef\u001b[0m \u001b[0mfinditer\u001b[0m\u001b[0;34m(\u001b[0m\u001b[0mpattern\u001b[0m\u001b[0;34m,\u001b[0m \u001b[0mstring\u001b[0m\u001b[0;34m,\u001b[0m \u001b[0mflags\u001b[0m\u001b[0;34m=\u001b[0m\u001b[0;36m0\u001b[0m\u001b[0;34m)\u001b[0m\u001b[0;34m:\u001b[0m\u001b[0;34m\u001b[0m\u001b[0m\n",
      "\u001b[0;31mKeyboardInterrupt\u001b[0m: "
     ]
    }
   ],
   "source": [
    "from pprint import pprint\n",
    "\n",
    "conjunto = re.findall(\"<tr.*?<td.*?class='orange'>(\\d\\d:\\d\\d).*?(\\d\\d/\\d\\d/\\d\\d\\d\\d).*?<td.*?(\\d\\d:\\d\\d)?.*?(\\d\\d/\\d\\d/\\d\\d\\d\\d)?.*?<td.*?<td.*?<td.*?<b>(M-40)</b>.*?<td.*?<span.*?<b>(.*?)</b></span>.*?</td>.*?\",s,re.DOTALL)\n",
    "pprint(conjunto)\n",
    "\n",
    "\n",
    "print(\"\\n Con fin\")\n",
    "confin= re.findall(\"<tr.*?<td.*?class='orange'>(\\d\\d:\\d\\d).*?(\\d\\d/\\d\\d/\\d\\d\\d\\d).*?<td.*?(\\d\\d:\\d\\d).*?(\\d\\d/\\d\\d/\\d\\d\\d\\d).*?<td.*?<td.*?<td.*?<b>(M-40)</b>.*?<td.*?<span.*?<b>(.*?)</b></span>.*?</td>.*?\",s,re.DOTALL)\n",
    "pprint(confin)\n",
    "\n",
    "\n",
    "\n",
    "\n"
   ]
  },
  {
   "cell_type": "code",
   "execution_count": null,
   "metadata": {},
   "outputs": [],
   "source": [
    "diccionario = {}\n",
    "\n",
    "for x in range(len(confin)):\n",
    "    identificador = confin[x][0] + confin[x][1] + confin[x][4] \n",
    "    diccionario.update({identificador : confin[x]})\n",
    "\n",
    "print(\"diccionario\")\n",
    "pprint(diccionario)\n",
    "for x in range(len(conjunto)):\n",
    "    identificador = conjunto[x][0] + conjunto[x][1] + conjunto[x][4]\n",
    "    if diccionario.get(identificador) == None:\n",
    "        diccionario.update({identificador : conjunto[x]})\n",
    "        \n",
    "print(\"diccionario\")\n",
    "pprint(diccionario)\n",
    "    \n",
    "    \n",
    "\n",
    "\n",
    "for x in range(len(conjunto)):\n",
    "    fin = \"\" # declarar variable para mensaje fin en caso de ser necesario \n",
    "    cleantext =  cleanhtml(conjunto[x][5]) # quitar las etiquetas de html del texto que describe la incidencia \n",
    "    if conjunto[x][2] != '': \n",
    "        mensaje = \"Hubo un atasco en la carretera \" + conjunto[x][4]\n",
    "        fin = \" el cual terminó a las \" + conjunto[x][2] + \" el día \" + conjunto[x][3]\n",
    "    else: \n",
    "        mensaje = \"Existe un atasco en la carretera \" + conjunto[x][4]\n",
    "    mensaje = mensaje + \" que inicio a las \" + conjunto[x][0] + \" el día \" + conjunto[x][1]\n",
    "    mensaje = mensaje + fin\n",
    "    mensaje = mensaje + \" con la siguientes características:\\n\" +  cleantext\n",
    "    \n",
    "    \n",
    "for x in diccionario:\n",
    "    valores = diccionario.get(x)\n",
    "    fin = \"\" # declarar variable para mensaje fin en caso de ser necesario \n",
    "    cleantext =  cleanhtml(valores[5]) # quitar las etiquetas de html del texto que describe la incidencia \n",
    "    if valores[2] != '': \n",
    "        mensaje = \"Hubo un atasco en la carretera \" + valores[4]\n",
    "        fin = \" el cual terminó a las \" + valores[2] + \" el día \" + valores[3]\n",
    "    else: \n",
    "        mensaje = \"Existe un atasco en la carretera \" + valores[4]\n",
    "    mensaje = mensaje + \" que inicio a las \" + valores[0] + \" el día \" + valores[1]\n",
    "    mensaje = mensaje + fin\n",
    "    mensaje = mensaje + \" con la siguientes características:\\n\" +  cleantext\n",
    "    \n",
    "    print()\n",
    "    print(mensaje)\n",
    "    \n",
    "\n",
    "    \n"
   ]
  },
  {
   "cell_type": "code",
   "execution_count": null,
   "metadata": {},
   "outputs": [],
   "source": []
  },
  {
   "cell_type": "code",
   "execution_count": 88,
   "metadata": {},
   "outputs": [
    {
     "name": "stdout",
     "output_type": "stream",
     "text": [
      "RESTRICCIONES A MERCANCÍAS PELIGROSAS por CIRCULACIÓN en Túnel Barajas:    -  La carretera   M-111   a la altura de MADRID (MADRID) desde el  km 1.1 al  km 5 sentido AMBOS SENTIDOS\n"
     ]
    }
   ],
   "source": [
    "for x in range(len(conjunto)):\n",
    "    cleantext=  cleanhtml(conjunto[x][5])\n",
    "    print(cleantext)"
   ]
  },
  {
   "cell_type": "code",
   "execution_count": 113,
   "metadata": {},
   "outputs": [
    {
     "name": "stdout",
     "output_type": "stream",
     "text": [
      "[('06:00', '18/02/2019', '', '', 'M-111', 'RESTRICCIONES A MERCANCÍAS PELIGROSAS</b> por <b>CIRCULACIÓN</b> en<b> Túnel Barajas</b>: </span> <span style=\"margin-top:10px; float:left; clear:both\">  -  La carretera  <b> <span style=\"color:#ab3000\">M-111 </span> </b> a la altura de <b>MADRID (MADRID)</b> desde el <b> km 1.1</b> al <b> km 5</b> sentido <b>AMBOS SENTIDOS')]\n",
      "['abc', '']\n"
     ]
    }
   ],
   "source": [
    "conjuntoPrueba = re.findall(\"<tr.*?<td.*?class='orange'>(\\d\\d:\\d\\d).*?(\\d\\d/\\d\\d/\\d\\d\\d\\d).*?<td.*?class='orange'>(\\d\\d:\\d\\d)*.*?(\\d\\d/\\d\\d/\\d\\d\\d\\d)*.*?<td.*?<td.*?<td.*?<b>(.*?)</b>.*?<td.*?<span.*?<b>(.*?)</b></span>.*?</td>.*?\",variable,re.DOTALL)\n",
    "print(conjuntoPrueba)\n",
    "\n",
    "sos = 'abcabcabc'\n",
    "sos2 = re.findall(\"(abc)*\",sos,re.DOTALL)\n",
    "print(sos2)"
   ]
  },
  {
   "cell_type": "code",
   "execution_count": 43,
   "metadata": {},
   "outputs": [
    {
     "name": "stdout",
     "output_type": "stream",
     "text": [
      "[('16:37', '21/02/2019', '', '', 'M-50', 'RETENCIÓN / CONGESTIÓN</b> por <b>CIRCULACIÓN</b> con circulación irregular  en<b></b>: </span> <span style=\"margin-top:10px; float:left; clear:both\">  - La AUTOPISTA / AUTOVÍA <b> <span style=\"color:#ab3000\">M-50 </span> </b> a la altura de <b>MOSTOLES (MADRID)</b> desde el <b> km 65</b> al <b> km 69</b> sentido <b>DECRECIENTE DE LA KILOMETRACIÓN</b> hacia <b>A-4'), ('16:29', '21/02/2019', '', '', 'A-3', 'RETENCIÓN / CONGESTIÓN</b> por <b>CIRCULACIÓN</b> con circulación irregular  en<b></b>: </span> <span style=\"margin-top:10px; float:left; clear:both\">  - La AUTOPISTA / AUTOVÍA <b> <span style=\"color:#ab3000\">A-3 </span> </b> a la altura de <b>RIVAS-VACIAMADRID (MADRID)</b> desde el <b> km 16</b> al <b> km 14</b> sentido <b>CRECIENTE DE LA KILOMETRACIÓN</b> hacia <b>VALENCIA'), ('16:28', '21/02/2019', '', '', 'M-40', 'RETENCIÓN / CONGESTIÓN</b> por <b>CIRCULACIÓN</b> con circulación irregular  en<b></b>: </span> <span style=\"margin-top:10px; float:left; clear:both\">  - La AUTOPISTA / AUTOVÍA <b> <span style=\"color:#ab3000\">M-40 </span> </b> a la altura de <b>MADRID (MADRID)</b> desde el <b> km 12.5</b> al <b> km 10</b> sentido <b>CRECIENTE DE LA KILOMETRACIÓN'), ('06:00', '21/02/2019', '23:00', '', 'M-111', 'RESTRICCIONES A MERCANCÍAS PELIGROSAS</b> por <b>CIRCULACIÓN</b> en<b> Túnel Barajas</b>: </span> <span style=\"margin-top:10px; float:left; clear:both\">  -  La carretera  <b> <span style=\"color:#ab3000\">M-111 </span> </b> a la altura de <b>MADRID (MADRID)</b> desde el <b> km 1.1</b> al <b> km 5</b> sentido <b>AMBOS SENTIDOS')]\n"
     ]
    }
   ],
   "source": [
    "conjunto = re.findall(\"<tr.*?class='orange'>(\\d\\d:\\d\\d).*?(\\d\\d/\\d\\d/\\d\\d\\d\\d).*?class='orange'>(\\d\\d:\\d\\d)?.*?</span>.*?>(\\d\\d/\\d\\d/\\d\\d\\d\\d)?.*?<td.*?<td.*?<td.*?<b>(.*?)</b>.*?<td.*?<span.*?<b>(.*?)</b></span>.*?</td>.*?</tr>\",s,re.DOTALL)\n",
    "print(conjunto)\n",
    "\n",
    "\n"
   ]
  },
  {
   "cell_type": "code",
   "execution_count": null,
   "metadata": {},
   "outputs": [],
   "source": []
  },
  {
   "cell_type": "code",
   "execution_count": null,
   "metadata": {},
   "outputs": [],
   "source": []
  }
 ],
 "metadata": {
  "kernelspec": {
   "display_name": "Python 3",
   "language": "python",
   "name": "python3"
  },
  "language_info": {
   "codemirror_mode": {
    "name": "ipython",
    "version": 3
   },
   "file_extension": ".py",
   "mimetype": "text/x-python",
   "name": "python",
   "nbconvert_exporter": "python",
   "pygments_lexer": "ipython3",
   "version": "3.5.2"
  }
 },
 "nbformat": 4,
 "nbformat_minor": 2
}
